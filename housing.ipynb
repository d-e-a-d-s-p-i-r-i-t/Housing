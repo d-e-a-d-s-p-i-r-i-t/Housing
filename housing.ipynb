{
 "cells": [
  {
   "cell_type": "code",
   "execution_count": 381,
   "metadata": {},
   "outputs": [
    {
     "name": "stdout",
     "output_type": "stream",
     "text": [
      "<class 'pandas.core.frame.DataFrame'>\n",
      "RangeIndex: 414 entries, 0 to 413\n",
      "Data columns (total 8 columns):\n",
      " #   Column  Non-Null Count  Dtype  \n",
      "---  ------  --------------  -----  \n",
      " 0   No      414 non-null    int64  \n",
      " 1   X1      414 non-null    float64\n",
      " 2   X2      414 non-null    float64\n",
      " 3   X3      414 non-null    float64\n",
      " 4   X4      414 non-null    int64  \n",
      " 5   X5      414 non-null    float64\n",
      " 6   X6      414 non-null    float64\n",
      " 7   Y       414 non-null    float64\n",
      "dtypes: float64(6), int64(2)\n",
      "memory usage: 26.0 KB\n"
     ]
    }
   ],
   "source": [
    "import pandas as pd\n",
    "housing = pd.read_csv(\"data-1.csv\")\n",
    "housing.info()"
   ]
  },
  {
   "cell_type": "code",
   "execution_count": 382,
   "metadata": {},
   "outputs": [
    {
     "data": {
      "text/html": [
       "<div>\n",
       "<style scoped>\n",
       "    .dataframe tbody tr th:only-of-type {\n",
       "        vertical-align: middle;\n",
       "    }\n",
       "\n",
       "    .dataframe tbody tr th {\n",
       "        vertical-align: top;\n",
       "    }\n",
       "\n",
       "    .dataframe thead th {\n",
       "        text-align: right;\n",
       "    }\n",
       "</style>\n",
       "<table border=\"1\" class=\"dataframe\">\n",
       "  <thead>\n",
       "    <tr style=\"text-align: right;\">\n",
       "      <th></th>\n",
       "      <th>No</th>\n",
       "      <th>X1</th>\n",
       "      <th>X2</th>\n",
       "      <th>X3</th>\n",
       "      <th>X4</th>\n",
       "      <th>X5</th>\n",
       "      <th>X6</th>\n",
       "      <th>Y</th>\n",
       "    </tr>\n",
       "  </thead>\n",
       "  <tbody>\n",
       "    <tr>\n",
       "      <th>0</th>\n",
       "      <td>1</td>\n",
       "      <td>2012.917</td>\n",
       "      <td>32.0</td>\n",
       "      <td>84.87882</td>\n",
       "      <td>10</td>\n",
       "      <td>24.98298</td>\n",
       "      <td>121.54024</td>\n",
       "      <td>37.9</td>\n",
       "    </tr>\n",
       "    <tr>\n",
       "      <th>1</th>\n",
       "      <td>2</td>\n",
       "      <td>2012.917</td>\n",
       "      <td>19.5</td>\n",
       "      <td>306.59470</td>\n",
       "      <td>9</td>\n",
       "      <td>24.98034</td>\n",
       "      <td>121.53951</td>\n",
       "      <td>42.2</td>\n",
       "    </tr>\n",
       "    <tr>\n",
       "      <th>2</th>\n",
       "      <td>3</td>\n",
       "      <td>2013.583</td>\n",
       "      <td>13.3</td>\n",
       "      <td>561.98450</td>\n",
       "      <td>5</td>\n",
       "      <td>24.98746</td>\n",
       "      <td>121.54391</td>\n",
       "      <td>47.3</td>\n",
       "    </tr>\n",
       "    <tr>\n",
       "      <th>3</th>\n",
       "      <td>4</td>\n",
       "      <td>2013.500</td>\n",
       "      <td>13.3</td>\n",
       "      <td>561.98450</td>\n",
       "      <td>5</td>\n",
       "      <td>24.98746</td>\n",
       "      <td>121.54391</td>\n",
       "      <td>54.8</td>\n",
       "    </tr>\n",
       "    <tr>\n",
       "      <th>4</th>\n",
       "      <td>5</td>\n",
       "      <td>2012.833</td>\n",
       "      <td>5.0</td>\n",
       "      <td>390.56840</td>\n",
       "      <td>5</td>\n",
       "      <td>24.97937</td>\n",
       "      <td>121.54245</td>\n",
       "      <td>43.1</td>\n",
       "    </tr>\n",
       "    <tr>\n",
       "      <th>...</th>\n",
       "      <td>...</td>\n",
       "      <td>...</td>\n",
       "      <td>...</td>\n",
       "      <td>...</td>\n",
       "      <td>...</td>\n",
       "      <td>...</td>\n",
       "      <td>...</td>\n",
       "      <td>...</td>\n",
       "    </tr>\n",
       "    <tr>\n",
       "      <th>409</th>\n",
       "      <td>410</td>\n",
       "      <td>2013.000</td>\n",
       "      <td>13.7</td>\n",
       "      <td>4082.01500</td>\n",
       "      <td>0</td>\n",
       "      <td>24.94155</td>\n",
       "      <td>121.50381</td>\n",
       "      <td>15.4</td>\n",
       "    </tr>\n",
       "    <tr>\n",
       "      <th>410</th>\n",
       "      <td>411</td>\n",
       "      <td>2012.667</td>\n",
       "      <td>5.6</td>\n",
       "      <td>90.45606</td>\n",
       "      <td>9</td>\n",
       "      <td>24.97433</td>\n",
       "      <td>121.54310</td>\n",
       "      <td>50.0</td>\n",
       "    </tr>\n",
       "    <tr>\n",
       "      <th>411</th>\n",
       "      <td>412</td>\n",
       "      <td>2013.250</td>\n",
       "      <td>18.8</td>\n",
       "      <td>390.96960</td>\n",
       "      <td>7</td>\n",
       "      <td>24.97923</td>\n",
       "      <td>121.53986</td>\n",
       "      <td>40.6</td>\n",
       "    </tr>\n",
       "    <tr>\n",
       "      <th>412</th>\n",
       "      <td>413</td>\n",
       "      <td>2013.000</td>\n",
       "      <td>8.1</td>\n",
       "      <td>104.81010</td>\n",
       "      <td>5</td>\n",
       "      <td>24.96674</td>\n",
       "      <td>121.54067</td>\n",
       "      <td>52.5</td>\n",
       "    </tr>\n",
       "    <tr>\n",
       "      <th>413</th>\n",
       "      <td>414</td>\n",
       "      <td>2013.500</td>\n",
       "      <td>6.5</td>\n",
       "      <td>90.45606</td>\n",
       "      <td>9</td>\n",
       "      <td>24.97433</td>\n",
       "      <td>121.54310</td>\n",
       "      <td>63.9</td>\n",
       "    </tr>\n",
       "  </tbody>\n",
       "</table>\n",
       "<p>414 rows × 8 columns</p>\n",
       "</div>"
      ],
      "text/plain": [
       "      No        X1    X2          X3  X4        X5         X6     Y\n",
       "0      1  2012.917  32.0    84.87882  10  24.98298  121.54024  37.9\n",
       "1      2  2012.917  19.5   306.59470   9  24.98034  121.53951  42.2\n",
       "2      3  2013.583  13.3   561.98450   5  24.98746  121.54391  47.3\n",
       "3      4  2013.500  13.3   561.98450   5  24.98746  121.54391  54.8\n",
       "4      5  2012.833   5.0   390.56840   5  24.97937  121.54245  43.1\n",
       "..   ...       ...   ...         ...  ..       ...        ...   ...\n",
       "409  410  2013.000  13.7  4082.01500   0  24.94155  121.50381  15.4\n",
       "410  411  2012.667   5.6    90.45606   9  24.97433  121.54310  50.0\n",
       "411  412  2013.250  18.8   390.96960   7  24.97923  121.53986  40.6\n",
       "412  413  2013.000   8.1   104.81010   5  24.96674  121.54067  52.5\n",
       "413  414  2013.500   6.5    90.45606   9  24.97433  121.54310  63.9\n",
       "\n",
       "[414 rows x 8 columns]"
      ]
     },
     "execution_count": 382,
     "metadata": {},
     "output_type": "execute_result"
    }
   ],
   "source": [
    "housing"
   ]
  },
  {
   "cell_type": "code",
   "execution_count": 383,
   "metadata": {},
   "outputs": [
    {
     "data": {
      "text/html": [
       "<div>\n",
       "<style scoped>\n",
       "    .dataframe tbody tr th:only-of-type {\n",
       "        vertical-align: middle;\n",
       "    }\n",
       "\n",
       "    .dataframe tbody tr th {\n",
       "        vertical-align: top;\n",
       "    }\n",
       "\n",
       "    .dataframe thead th {\n",
       "        text-align: right;\n",
       "    }\n",
       "</style>\n",
       "<table border=\"1\" class=\"dataframe\">\n",
       "  <thead>\n",
       "    <tr style=\"text-align: right;\">\n",
       "      <th></th>\n",
       "      <th>No</th>\n",
       "      <th>X1</th>\n",
       "      <th>X2</th>\n",
       "      <th>X3</th>\n",
       "      <th>X4</th>\n",
       "      <th>X5</th>\n",
       "      <th>X6</th>\n",
       "      <th>Y</th>\n",
       "    </tr>\n",
       "  </thead>\n",
       "  <tbody>\n",
       "    <tr>\n",
       "      <th>0</th>\n",
       "      <td>1</td>\n",
       "      <td>2012.917</td>\n",
       "      <td>32.0</td>\n",
       "      <td>84.87882</td>\n",
       "      <td>10</td>\n",
       "      <td>24.98298</td>\n",
       "      <td>121.54024</td>\n",
       "      <td>37.9</td>\n",
       "    </tr>\n",
       "    <tr>\n",
       "      <th>1</th>\n",
       "      <td>2</td>\n",
       "      <td>2012.917</td>\n",
       "      <td>19.5</td>\n",
       "      <td>306.59470</td>\n",
       "      <td>9</td>\n",
       "      <td>24.98034</td>\n",
       "      <td>121.53951</td>\n",
       "      <td>42.2</td>\n",
       "    </tr>\n",
       "    <tr>\n",
       "      <th>2</th>\n",
       "      <td>3</td>\n",
       "      <td>2013.583</td>\n",
       "      <td>13.3</td>\n",
       "      <td>561.98450</td>\n",
       "      <td>5</td>\n",
       "      <td>24.98746</td>\n",
       "      <td>121.54391</td>\n",
       "      <td>47.3</td>\n",
       "    </tr>\n",
       "    <tr>\n",
       "      <th>3</th>\n",
       "      <td>4</td>\n",
       "      <td>2013.500</td>\n",
       "      <td>13.3</td>\n",
       "      <td>561.98450</td>\n",
       "      <td>5</td>\n",
       "      <td>24.98746</td>\n",
       "      <td>121.54391</td>\n",
       "      <td>54.8</td>\n",
       "    </tr>\n",
       "    <tr>\n",
       "      <th>4</th>\n",
       "      <td>5</td>\n",
       "      <td>2012.833</td>\n",
       "      <td>5.0</td>\n",
       "      <td>390.56840</td>\n",
       "      <td>5</td>\n",
       "      <td>24.97937</td>\n",
       "      <td>121.54245</td>\n",
       "      <td>43.1</td>\n",
       "    </tr>\n",
       "  </tbody>\n",
       "</table>\n",
       "</div>"
      ],
      "text/plain": [
       "   No        X1    X2         X3  X4        X5         X6     Y\n",
       "0   1  2012.917  32.0   84.87882  10  24.98298  121.54024  37.9\n",
       "1   2  2012.917  19.5  306.59470   9  24.98034  121.53951  42.2\n",
       "2   3  2013.583  13.3  561.98450   5  24.98746  121.54391  47.3\n",
       "3   4  2013.500  13.3  561.98450   5  24.98746  121.54391  54.8\n",
       "4   5  2012.833   5.0  390.56840   5  24.97937  121.54245  43.1"
      ]
     },
     "execution_count": 383,
     "metadata": {},
     "output_type": "execute_result"
    }
   ],
   "source": [
    "housing.head()"
   ]
  },
  {
   "cell_type": "code",
   "execution_count": 384,
   "metadata": {},
   "outputs": [
    {
     "data": {
      "text/html": [
       "<div>\n",
       "<style scoped>\n",
       "    .dataframe tbody tr th:only-of-type {\n",
       "        vertical-align: middle;\n",
       "    }\n",
       "\n",
       "    .dataframe tbody tr th {\n",
       "        vertical-align: top;\n",
       "    }\n",
       "\n",
       "    .dataframe thead th {\n",
       "        text-align: right;\n",
       "    }\n",
       "</style>\n",
       "<table border=\"1\" class=\"dataframe\">\n",
       "  <thead>\n",
       "    <tr style=\"text-align: right;\">\n",
       "      <th></th>\n",
       "      <th>No</th>\n",
       "      <th>X1</th>\n",
       "      <th>X2</th>\n",
       "      <th>X3</th>\n",
       "      <th>X4</th>\n",
       "      <th>X5</th>\n",
       "      <th>X6</th>\n",
       "      <th>Y</th>\n",
       "    </tr>\n",
       "  </thead>\n",
       "  <tbody>\n",
       "    <tr>\n",
       "      <th>count</th>\n",
       "      <td>414.000000</td>\n",
       "      <td>414.000000</td>\n",
       "      <td>414.000000</td>\n",
       "      <td>414.000000</td>\n",
       "      <td>414.000000</td>\n",
       "      <td>414.000000</td>\n",
       "      <td>414.000000</td>\n",
       "      <td>414.000000</td>\n",
       "    </tr>\n",
       "    <tr>\n",
       "      <th>mean</th>\n",
       "      <td>207.500000</td>\n",
       "      <td>2013.148971</td>\n",
       "      <td>17.712560</td>\n",
       "      <td>1083.885689</td>\n",
       "      <td>4.094203</td>\n",
       "      <td>24.969030</td>\n",
       "      <td>121.533361</td>\n",
       "      <td>37.980193</td>\n",
       "    </tr>\n",
       "    <tr>\n",
       "      <th>std</th>\n",
       "      <td>119.655756</td>\n",
       "      <td>0.281967</td>\n",
       "      <td>11.392485</td>\n",
       "      <td>1262.109595</td>\n",
       "      <td>2.945562</td>\n",
       "      <td>0.012410</td>\n",
       "      <td>0.015347</td>\n",
       "      <td>13.606488</td>\n",
       "    </tr>\n",
       "    <tr>\n",
       "      <th>min</th>\n",
       "      <td>1.000000</td>\n",
       "      <td>2012.667000</td>\n",
       "      <td>0.000000</td>\n",
       "      <td>23.382840</td>\n",
       "      <td>0.000000</td>\n",
       "      <td>24.932070</td>\n",
       "      <td>121.473530</td>\n",
       "      <td>7.600000</td>\n",
       "    </tr>\n",
       "    <tr>\n",
       "      <th>25%</th>\n",
       "      <td>104.250000</td>\n",
       "      <td>2012.917000</td>\n",
       "      <td>9.025000</td>\n",
       "      <td>289.324800</td>\n",
       "      <td>1.000000</td>\n",
       "      <td>24.963000</td>\n",
       "      <td>121.528085</td>\n",
       "      <td>27.700000</td>\n",
       "    </tr>\n",
       "    <tr>\n",
       "      <th>50%</th>\n",
       "      <td>207.500000</td>\n",
       "      <td>2013.167000</td>\n",
       "      <td>16.100000</td>\n",
       "      <td>492.231300</td>\n",
       "      <td>4.000000</td>\n",
       "      <td>24.971100</td>\n",
       "      <td>121.538630</td>\n",
       "      <td>38.450000</td>\n",
       "    </tr>\n",
       "    <tr>\n",
       "      <th>75%</th>\n",
       "      <td>310.750000</td>\n",
       "      <td>2013.417000</td>\n",
       "      <td>28.150000</td>\n",
       "      <td>1454.279000</td>\n",
       "      <td>6.000000</td>\n",
       "      <td>24.977455</td>\n",
       "      <td>121.543305</td>\n",
       "      <td>46.600000</td>\n",
       "    </tr>\n",
       "    <tr>\n",
       "      <th>max</th>\n",
       "      <td>414.000000</td>\n",
       "      <td>2013.583000</td>\n",
       "      <td>43.800000</td>\n",
       "      <td>6488.021000</td>\n",
       "      <td>10.000000</td>\n",
       "      <td>25.014590</td>\n",
       "      <td>121.566270</td>\n",
       "      <td>117.500000</td>\n",
       "    </tr>\n",
       "  </tbody>\n",
       "</table>\n",
       "</div>"
      ],
      "text/plain": [
       "               No           X1          X2           X3          X4  \\\n",
       "count  414.000000   414.000000  414.000000   414.000000  414.000000   \n",
       "mean   207.500000  2013.148971   17.712560  1083.885689    4.094203   \n",
       "std    119.655756     0.281967   11.392485  1262.109595    2.945562   \n",
       "min      1.000000  2012.667000    0.000000    23.382840    0.000000   \n",
       "25%    104.250000  2012.917000    9.025000   289.324800    1.000000   \n",
       "50%    207.500000  2013.167000   16.100000   492.231300    4.000000   \n",
       "75%    310.750000  2013.417000   28.150000  1454.279000    6.000000   \n",
       "max    414.000000  2013.583000   43.800000  6488.021000   10.000000   \n",
       "\n",
       "               X5          X6           Y  \n",
       "count  414.000000  414.000000  414.000000  \n",
       "mean    24.969030  121.533361   37.980193  \n",
       "std      0.012410    0.015347   13.606488  \n",
       "min     24.932070  121.473530    7.600000  \n",
       "25%     24.963000  121.528085   27.700000  \n",
       "50%     24.971100  121.538630   38.450000  \n",
       "75%     24.977455  121.543305   46.600000  \n",
       "max     25.014590  121.566270  117.500000  "
      ]
     },
     "execution_count": 384,
     "metadata": {},
     "output_type": "execute_result"
    }
   ],
   "source": [
    "housing.describe()"
   ]
  },
  {
   "cell_type": "code",
   "execution_count": 385,
   "metadata": {},
   "outputs": [
    {
     "data": {
      "text/plain": [
       "X4\n",
       "5     67\n",
       "0     67\n",
       "3     46\n",
       "1     46\n",
       "6     37\n",
       "7     31\n",
       "4     31\n",
       "8     30\n",
       "9     25\n",
       "2     24\n",
       "10    10\n",
       "Name: count, dtype: int64"
      ]
     },
     "execution_count": 385,
     "metadata": {},
     "output_type": "execute_result"
    }
   ],
   "source": [
    "housing['X4'].value_counts()"
   ]
  },
  {
   "cell_type": "code",
   "execution_count": 386,
   "metadata": {},
   "outputs": [
    {
     "data": {
      "text/plain": [
       "array([[<Axes: title={'center': 'No'}>, <Axes: title={'center': 'X1'}>,\n",
       "        <Axes: title={'center': 'X2'}>],\n",
       "       [<Axes: title={'center': 'X3'}>, <Axes: title={'center': 'X4'}>,\n",
       "        <Axes: title={'center': 'X5'}>],\n",
       "       [<Axes: title={'center': 'X6'}>, <Axes: title={'center': 'Y'}>,\n",
       "        <Axes: >]], dtype=object)"
      ]
     },
     "execution_count": 386,
     "metadata": {},
     "output_type": "execute_result"
    },
    {
     "data": {
      "image/png": "[encoded data removed]",
      "text/plain": [
       "<Figure size 640x480 with 9 Axes>"
      ]
     },
     "metadata": {},
     "output_type": "display_data"
    }
   ],
   "source": [
    "import matplotlib.pyplot as plt\n",
    "housing.hist()"
   ]
  },
  {
   "cell_type": "code",
   "execution_count": 387,
   "metadata": {},
   "outputs": [
    {
     "data": {
      "text/plain": [
       "array([[<Axes: title={'center': 'No'}>, <Axes: title={'center': 'X1'}>,\n",
       "        <Axes: title={'center': 'X2'}>],\n",
       "       [<Axes: title={'center': 'X3'}>, <Axes: title={'center': 'X4'}>,\n",
       "        <Axes: title={'center': 'X5'}>],\n",
       "       [<Axes: title={'center': 'X6'}>, <Axes: title={'center': 'Y'}>,\n",
       "        <Axes: >]], dtype=object)"
      ]
     },
     "execution_count": 387,
     "metadata": {},
     "output_type": "execute_result"
    },
    {
     "data": {
      "image/png": "[encoded data removed]",
      "text/plain": [
       "<Figure size 2000x1500 with 9 Axes>"
      ]
     },
     "metadata": {},
     "output_type": "display_data"
    }
   ],
   "source": [
    "housing.hist(bins=300, figsize=(20,15))"
   ]
  },
  {
   "cell_type": "code",
   "execution_count": 388,
   "metadata": {},
   "outputs": [],
   "source": [
    "import numpy as np\n",
    "def split_train_test(data, test_ratio):\n",
    "    np.random.seed(42)\n",
    "    shuffled = np.random.permutation(len(data))\n",
    "    print(shuffled)\n",
    "    test_set_size = int(len(data)*test_ratio)\n",
    "    test_indices = shuffled[:test_set_size]\n",
    "    train_indices = shuffled[test_set_size:]\n",
    "    return data.iloc[train_indices], data.iloc[test_indices]"
   ]
  },
  {
   "cell_type": "code",
   "execution_count": 389,
   "metadata": {},
   "outputs": [
    {
     "name": "stdout",
     "output_type": "stream",
     "text": [
      "[358 350 373 399 369  72 262 140  93  70 118 131 336  55 126 376  56 291\n",
      " 365  84 116   9 374 137 320 402 231  90  94 173  30 141 104  79  33 290\n",
      " 286 409 222 361  15 311   0 317 272 124 271 184 275 360 225 355 364 274\n",
      " 175  73  42 165  77  39 401  25 155 180 347 266  22  46  78 152  82  76\n",
      "  57 110  24  17 238 405  31 283 157 203 208 192 234   5  45 245 346 195\n",
      " 382 400 296   3  18 250  60 390 408  63 261 297 113 248 326 410 391 352\n",
      " 132 237 108 101 193  29 307 386 305 114 247  75 268 148  16  66 341   7\n",
      " 194  19 176 367 304 198 145 265 109 202 196 396 239  83 168 323  74 383\n",
      " 119 209 219 153 177 387 371  36 139 338 172 211 332  59 111 284 325   6\n",
      " 299 285 158 150  10 331 103  81 278 258 167 388 223 229 181 227  89 389\n",
      " 163 147 246  92  69 123  96 143 362  97 249  68  23  37 144 122 228 182\n",
      "  67 340 244 394 384 329 210 125 146 289  86 412 220 349 327 356 314 183\n",
      " 218 294 333 392 129  38  11 280 185 281 112 179 301 366 337 117 381 287\n",
      " 398 298 233 375 255 164 354 136 154 199 197 406   2 232 204 115 253 321\n",
      "  26 120 318 224 334 277 127 342 107 395 133 302  44 380  65  85 242 186\n",
      " 159  12  35  28 170 142 403 312 221  95  51 240 310 316 178  41 322 206\n",
      " 282 254 393   4 256 370 100 226 353 213 171  98 292 215  61  47  32 267\n",
      " 200 368  27 324 230 260 288 162 351 138  62 135 128   8  64 300  14 156\n",
      "  40 379 335 216 279 357 236 207 212 295 377 251 404 378 303 269 201 161\n",
      "  43 217 190 309 259 105  53   1  49  80 205  34 263  91 339  52 345 264\n",
      " 241  13 315  88 273 166 328 407 134 306 397 319 243  54 363  50 174 189\n",
      " 411 187 169  58  48 344 235 252  21 313 160 276 191 385 293 343 257 308\n",
      " 149 130 151 359  99 372  87 330 214 121 413  20 188  71 106 270 348 102]\n"
     ]
    }
   ],
   "source": [
    "train_set, test_set = split_train_test(housing, 0.2)"
   ]
  },
  {
   "cell_type": "code",
   "execution_count": 390,
   "metadata": {},
   "outputs": [
    {
     "name": "stdout",
     "output_type": "stream",
     "text": [
      "Rows in train set: 332\n",
      "Rows in test set: 82\n",
      "\n"
     ]
    }
   ],
   "source": [
    "print(f\"Rows in train set: {len(train_set)}\\nRows in test set: {len(test_set)}\\n\")"
   ]
  },
  {
   "cell_type": "code",
   "execution_count": 391,
   "metadata": {},
   "outputs": [
    {
     "name": "stdout",
     "output_type": "stream",
     "text": [
      "Rows in train set: 331\n",
      "Rows in test set: 83\n",
      "\n"
     ]
    }
   ],
   "source": [
    "from sklearn.model_selection import train_test_split\n",
    "train_set, test_set= train_test_split(housing, test_size=0.2,random_state=42)\n",
    "print(f\"Rows in train set: {len(train_set)}\\nRows in test set: {len(test_set)}\\n\")"
   ]
  },
  {
   "cell_type": "code",
   "execution_count": 392,
   "metadata": {},
   "outputs": [],
   "source": [
    "from sklearn.model_selection import StratifiedShuffleSplit\n",
    "split = StratifiedShuffleSplit(n_splits=1, test_size=0.2, random_state=42)\n",
    "for train_index, test_index in split.split(housing,housing['X4']):\n",
    "    strat_train_set = housing.loc[train_index]\n",
    "    strat_test_set = housing.loc[test_index]\n"
   ]
  },
  {
   "cell_type": "code",
   "execution_count": 393,
   "metadata": {},
   "outputs": [
    {
     "data": {
      "text/html": [
       "<div>\n",
       "<style scoped>\n",
       "    .dataframe tbody tr th:only-of-type {\n",
       "        vertical-align: middle;\n",
       "    }\n",
       "\n",
       "    .dataframe tbody tr th {\n",
       "        vertical-align: top;\n",
       "    }\n",
       "\n",
       "    .dataframe thead th {\n",
       "        text-align: right;\n",
       "    }\n",
       "</style>\n",
       "<table border=\"1\" class=\"dataframe\">\n",
       "  <thead>\n",
       "    <tr style=\"text-align: right;\">\n",
       "      <th></th>\n",
       "      <th>No</th>\n",
       "      <th>X1</th>\n",
       "      <th>X2</th>\n",
       "      <th>X3</th>\n",
       "      <th>X4</th>\n",
       "      <th>X5</th>\n",
       "      <th>X6</th>\n",
       "      <th>Y</th>\n",
       "    </tr>\n",
       "  </thead>\n",
       "  <tbody>\n",
       "    <tr>\n",
       "      <th>119</th>\n",
       "      <td>120</td>\n",
       "      <td>2013.500</td>\n",
       "      <td>16.6</td>\n",
       "      <td>289.32480</td>\n",
       "      <td>5</td>\n",
       "      <td>24.98203</td>\n",
       "      <td>121.54348</td>\n",
       "      <td>59.6</td>\n",
       "    </tr>\n",
       "    <tr>\n",
       "      <th>80</th>\n",
       "      <td>81</td>\n",
       "      <td>2013.500</td>\n",
       "      <td>11.8</td>\n",
       "      <td>533.47620</td>\n",
       "      <td>4</td>\n",
       "      <td>24.97445</td>\n",
       "      <td>121.54765</td>\n",
       "      <td>40.3</td>\n",
       "    </tr>\n",
       "    <tr>\n",
       "      <th>89</th>\n",
       "      <td>90</td>\n",
       "      <td>2013.500</td>\n",
       "      <td>23.0</td>\n",
       "      <td>3947.94500</td>\n",
       "      <td>0</td>\n",
       "      <td>24.94783</td>\n",
       "      <td>121.50243</td>\n",
       "      <td>25.3</td>\n",
       "    </tr>\n",
       "    <tr>\n",
       "      <th>359</th>\n",
       "      <td>360</td>\n",
       "      <td>2013.500</td>\n",
       "      <td>5.6</td>\n",
       "      <td>2408.99300</td>\n",
       "      <td>0</td>\n",
       "      <td>24.95505</td>\n",
       "      <td>121.55964</td>\n",
       "      <td>24.7</td>\n",
       "    </tr>\n",
       "    <tr>\n",
       "      <th>63</th>\n",
       "      <td>64</td>\n",
       "      <td>2013.583</td>\n",
       "      <td>2.6</td>\n",
       "      <td>533.47620</td>\n",
       "      <td>4</td>\n",
       "      <td>24.97445</td>\n",
       "      <td>121.54765</td>\n",
       "      <td>55.0</td>\n",
       "    </tr>\n",
       "    <tr>\n",
       "      <th>...</th>\n",
       "      <td>...</td>\n",
       "      <td>...</td>\n",
       "      <td>...</td>\n",
       "      <td>...</td>\n",
       "      <td>...</td>\n",
       "      <td>...</td>\n",
       "      <td>...</td>\n",
       "      <td>...</td>\n",
       "    </tr>\n",
       "    <tr>\n",
       "      <th>3</th>\n",
       "      <td>4</td>\n",
       "      <td>2013.500</td>\n",
       "      <td>13.3</td>\n",
       "      <td>561.98450</td>\n",
       "      <td>5</td>\n",
       "      <td>24.98746</td>\n",
       "      <td>121.54391</td>\n",
       "      <td>54.8</td>\n",
       "    </tr>\n",
       "    <tr>\n",
       "      <th>226</th>\n",
       "      <td>227</td>\n",
       "      <td>2013.000</td>\n",
       "      <td>16.5</td>\n",
       "      <td>4082.01500</td>\n",
       "      <td>0</td>\n",
       "      <td>24.94155</td>\n",
       "      <td>121.50381</td>\n",
       "      <td>12.8</td>\n",
       "    </tr>\n",
       "    <tr>\n",
       "      <th>164</th>\n",
       "      <td>165</td>\n",
       "      <td>2012.833</td>\n",
       "      <td>0.0</td>\n",
       "      <td>185.42960</td>\n",
       "      <td>0</td>\n",
       "      <td>24.97110</td>\n",
       "      <td>121.53170</td>\n",
       "      <td>55.2</td>\n",
       "    </tr>\n",
       "    <tr>\n",
       "      <th>326</th>\n",
       "      <td>327</td>\n",
       "      <td>2013.500</td>\n",
       "      <td>4.1</td>\n",
       "      <td>56.47425</td>\n",
       "      <td>7</td>\n",
       "      <td>24.95744</td>\n",
       "      <td>121.53711</td>\n",
       "      <td>62.1</td>\n",
       "    </tr>\n",
       "    <tr>\n",
       "      <th>151</th>\n",
       "      <td>152</td>\n",
       "      <td>2013.500</td>\n",
       "      <td>4.9</td>\n",
       "      <td>387.77210</td>\n",
       "      <td>9</td>\n",
       "      <td>24.98118</td>\n",
       "      <td>121.53788</td>\n",
       "      <td>44.7</td>\n",
       "    </tr>\n",
       "  </tbody>\n",
       "</table>\n",
       "<p>83 rows × 8 columns</p>\n",
       "</div>"
      ],
      "text/plain": [
       "      No        X1    X2          X3  X4        X5         X6     Y\n",
       "119  120  2013.500  16.6   289.32480   5  24.98203  121.54348  59.6\n",
       "80    81  2013.500  11.8   533.47620   4  24.97445  121.54765  40.3\n",
       "89    90  2013.500  23.0  3947.94500   0  24.94783  121.50243  25.3\n",
       "359  360  2013.500   5.6  2408.99300   0  24.95505  121.55964  24.7\n",
       "63    64  2013.583   2.6   533.47620   4  24.97445  121.54765  55.0\n",
       "..   ...       ...   ...         ...  ..       ...        ...   ...\n",
       "3      4  2013.500  13.3   561.98450   5  24.98746  121.54391  54.8\n",
       "226  227  2013.000  16.5  4082.01500   0  24.94155  121.50381  12.8\n",
       "164  165  2012.833   0.0   185.42960   0  24.97110  121.53170  55.2\n",
       "326  327  2013.500   4.1    56.47425   7  24.95744  121.53711  62.1\n",
       "151  152  2013.500   4.9   387.77210   9  24.98118  121.53788  44.7\n",
       "\n",
       "[83 rows x 8 columns]"
      ]
     },
     "execution_count": 393,
     "metadata": {},
     "output_type": "execute_result"
    }
   ],
   "source": [
    "strat_test_set"
   ]
  },
  {
   "cell_type": "code",
   "execution_count": 394,
   "metadata": {},
   "outputs": [
    {
     "data": {
      "text/html": [
       "<div>\n",
       "<style scoped>\n",
       "    .dataframe tbody tr th:only-of-type {\n",
       "        vertical-align: middle;\n",
       "    }\n",
       "\n",
       "    .dataframe tbody tr th {\n",
       "        vertical-align: top;\n",
       "    }\n",
       "\n",
       "    .dataframe thead th {\n",
       "        text-align: right;\n",
       "    }\n",
       "</style>\n",
       "<table border=\"1\" class=\"dataframe\">\n",
       "  <thead>\n",
       "    <tr style=\"text-align: right;\">\n",
       "      <th></th>\n",
       "      <th>No</th>\n",
       "      <th>X1</th>\n",
       "      <th>X2</th>\n",
       "      <th>X3</th>\n",
       "      <th>X4</th>\n",
       "      <th>X5</th>\n",
       "      <th>X6</th>\n",
       "      <th>Y</th>\n",
       "    </tr>\n",
       "  </thead>\n",
       "  <tbody>\n",
       "    <tr>\n",
       "      <th>count</th>\n",
       "      <td>83.000000</td>\n",
       "      <td>83.000000</td>\n",
       "      <td>83.000000</td>\n",
       "      <td>83.000000</td>\n",
       "      <td>83.000000</td>\n",
       "      <td>83.000000</td>\n",
       "      <td>83.000000</td>\n",
       "      <td>83.000000</td>\n",
       "    </tr>\n",
       "    <tr>\n",
       "      <th>mean</th>\n",
       "      <td>200.048193</td>\n",
       "      <td>2013.173711</td>\n",
       "      <td>16.490361</td>\n",
       "      <td>1096.937148</td>\n",
       "      <td>4.060241</td>\n",
       "      <td>24.968154</td>\n",
       "      <td>121.532645</td>\n",
       "      <td>39.402410</td>\n",
       "    </tr>\n",
       "    <tr>\n",
       "      <th>std</th>\n",
       "      <td>117.126563</td>\n",
       "      <td>0.287238</td>\n",
       "      <td>10.947598</td>\n",
       "      <td>1316.069519</td>\n",
       "      <td>2.968737</td>\n",
       "      <td>0.012779</td>\n",
       "      <td>0.015735</td>\n",
       "      <td>15.933398</td>\n",
       "    </tr>\n",
       "    <tr>\n",
       "      <th>min</th>\n",
       "      <td>2.000000</td>\n",
       "      <td>2012.667000</td>\n",
       "      <td>0.000000</td>\n",
       "      <td>23.382840</td>\n",
       "      <td>0.000000</td>\n",
       "      <td>24.932070</td>\n",
       "      <td>121.473530</td>\n",
       "      <td>11.200000</td>\n",
       "    </tr>\n",
       "    <tr>\n",
       "      <th>25%</th>\n",
       "      <td>107.500000</td>\n",
       "      <td>2012.917000</td>\n",
       "      <td>7.300000</td>\n",
       "      <td>282.886900</td>\n",
       "      <td>1.000000</td>\n",
       "      <td>24.962990</td>\n",
       "      <td>121.521220</td>\n",
       "      <td>29.100000</td>\n",
       "    </tr>\n",
       "    <tr>\n",
       "      <th>50%</th>\n",
       "      <td>192.000000</td>\n",
       "      <td>2013.167000</td>\n",
       "      <td>16.100000</td>\n",
       "      <td>492.231300</td>\n",
       "      <td>4.000000</td>\n",
       "      <td>24.971100</td>\n",
       "      <td>121.538890</td>\n",
       "      <td>39.000000</td>\n",
       "    </tr>\n",
       "    <tr>\n",
       "      <th>75%</th>\n",
       "      <td>308.500000</td>\n",
       "      <td>2013.417000</td>\n",
       "      <td>22.250000</td>\n",
       "      <td>1492.790500</td>\n",
       "      <td>6.000000</td>\n",
       "      <td>24.977255</td>\n",
       "      <td>121.543150</td>\n",
       "      <td>47.200000</td>\n",
       "    </tr>\n",
       "    <tr>\n",
       "      <th>max</th>\n",
       "      <td>397.000000</td>\n",
       "      <td>2013.583000</td>\n",
       "      <td>41.300000</td>\n",
       "      <td>6488.021000</td>\n",
       "      <td>10.000000</td>\n",
       "      <td>24.990060</td>\n",
       "      <td>121.559640</td>\n",
       "      <td>117.500000</td>\n",
       "    </tr>\n",
       "  </tbody>\n",
       "</table>\n",
       "</div>"
      ],
      "text/plain": [
       "               No           X1         X2           X3         X4         X5  \\\n",
       "count   83.000000    83.000000  83.000000    83.000000  83.000000  83.000000   \n",
       "mean   200.048193  2013.173711  16.490361  1096.937148   4.060241  24.968154   \n",
       "std    117.126563     0.287238  10.947598  1316.069519   2.968737   0.012779   \n",
       "min      2.000000  2012.667000   0.000000    23.382840   0.000000  24.932070   \n",
       "25%    107.500000  2012.917000   7.300000   282.886900   1.000000  24.962990   \n",
       "50%    192.000000  2013.167000  16.100000   492.231300   4.000000  24.971100   \n",
       "75%    308.500000  2013.417000  22.250000  1492.790500   6.000000  24.977255   \n",
       "max    397.000000  2013.583000  41.300000  6488.021000  10.000000  24.990060   \n",
       "\n",
       "               X6           Y  \n",
       "count   83.000000   83.000000  \n",
       "mean   121.532645   39.402410  \n",
       "std      0.015735   15.933398  \n",
       "min    121.473530   11.200000  \n",
       "25%    121.521220   29.100000  \n",
       "50%    121.538890   39.000000  \n",
       "75%    121.543150   47.200000  \n",
       "max    121.559640  117.500000  "
      ]
     },
     "execution_count": 394,
     "metadata": {},
     "output_type": "execute_result"
    }
   ],
   "source": [
    "strat_test_set.describe()"
   ]
  },
  {
   "cell_type": "code",
   "execution_count": 395,
   "metadata": {},
   "outputs": [
    {
     "data": {
      "text/html": [
       "<div>\n",
       "<style scoped>\n",
       "    .dataframe tbody tr th:only-of-type {\n",
       "        vertical-align: middle;\n",
       "    }\n",
       "\n",
       "    .dataframe tbody tr th {\n",
       "        vertical-align: top;\n",
       "    }\n",
       "\n",
       "    .dataframe thead th {\n",
       "        text-align: right;\n",
       "    }\n",
       "</style>\n",
       "<table border=\"1\" class=\"dataframe\">\n",
       "  <thead>\n",
       "    <tr style=\"text-align: right;\">\n",
       "      <th></th>\n",
       "      <th>No</th>\n",
       "      <th>X1</th>\n",
       "      <th>X2</th>\n",
       "      <th>X3</th>\n",
       "      <th>X4</th>\n",
       "      <th>X5</th>\n",
       "      <th>X6</th>\n",
       "      <th>Y</th>\n",
       "    </tr>\n",
       "  </thead>\n",
       "  <tbody>\n",
       "    <tr>\n",
       "      <th>count</th>\n",
       "      <td>331.000000</td>\n",
       "      <td>331.000000</td>\n",
       "      <td>331.000000</td>\n",
       "      <td>331.000000</td>\n",
       "      <td>331.000000</td>\n",
       "      <td>331.000000</td>\n",
       "      <td>331.000000</td>\n",
       "      <td>331.000000</td>\n",
       "    </tr>\n",
       "    <tr>\n",
       "      <th>mean</th>\n",
       "      <td>209.368580</td>\n",
       "      <td>2013.142767</td>\n",
       "      <td>18.019033</td>\n",
       "      <td>1080.612966</td>\n",
       "      <td>4.102719</td>\n",
       "      <td>24.969250</td>\n",
       "      <td>121.533541</td>\n",
       "      <td>37.623565</td>\n",
       "    </tr>\n",
       "    <tr>\n",
       "      <th>std</th>\n",
       "      <td>120.383667</td>\n",
       "      <td>0.280728</td>\n",
       "      <td>11.497031</td>\n",
       "      <td>1250.250085</td>\n",
       "      <td>2.944182</td>\n",
       "      <td>0.012326</td>\n",
       "      <td>0.015267</td>\n",
       "      <td>12.960756</td>\n",
       "    </tr>\n",
       "    <tr>\n",
       "      <th>min</th>\n",
       "      <td>1.000000</td>\n",
       "      <td>2012.667000</td>\n",
       "      <td>0.000000</td>\n",
       "      <td>23.382840</td>\n",
       "      <td>0.000000</td>\n",
       "      <td>24.933630</td>\n",
       "      <td>121.475160</td>\n",
       "      <td>7.600000</td>\n",
       "    </tr>\n",
       "    <tr>\n",
       "      <th>25%</th>\n",
       "      <td>103.500000</td>\n",
       "      <td>2012.917000</td>\n",
       "      <td>9.100000</td>\n",
       "      <td>289.324800</td>\n",
       "      <td>1.000000</td>\n",
       "      <td>24.963050</td>\n",
       "      <td>121.529675</td>\n",
       "      <td>27.300000</td>\n",
       "    </tr>\n",
       "    <tr>\n",
       "      <th>50%</th>\n",
       "      <td>209.000000</td>\n",
       "      <td>2013.167000</td>\n",
       "      <td>16.100000</td>\n",
       "      <td>492.231300</td>\n",
       "      <td>4.000000</td>\n",
       "      <td>24.971100</td>\n",
       "      <td>121.538440</td>\n",
       "      <td>38.300000</td>\n",
       "    </tr>\n",
       "    <tr>\n",
       "      <th>75%</th>\n",
       "      <td>311.500000</td>\n",
       "      <td>2013.417000</td>\n",
       "      <td>29.600000</td>\n",
       "      <td>1448.504000</td>\n",
       "      <td>6.000000</td>\n",
       "      <td>24.978045</td>\n",
       "      <td>121.543395</td>\n",
       "      <td>46.150000</td>\n",
       "    </tr>\n",
       "    <tr>\n",
       "      <th>max</th>\n",
       "      <td>414.000000</td>\n",
       "      <td>2013.583000</td>\n",
       "      <td>43.800000</td>\n",
       "      <td>6396.283000</td>\n",
       "      <td>10.000000</td>\n",
       "      <td>25.014590</td>\n",
       "      <td>121.566270</td>\n",
       "      <td>78.300000</td>\n",
       "    </tr>\n",
       "  </tbody>\n",
       "</table>\n",
       "</div>"
      ],
      "text/plain": [
       "               No           X1          X2           X3          X4  \\\n",
       "count  331.000000   331.000000  331.000000   331.000000  331.000000   \n",
       "mean   209.368580  2013.142767   18.019033  1080.612966    4.102719   \n",
       "std    120.383667     0.280728   11.497031  1250.250085    2.944182   \n",
       "min      1.000000  2012.667000    0.000000    23.382840    0.000000   \n",
       "25%    103.500000  2012.917000    9.100000   289.324800    1.000000   \n",
       "50%    209.000000  2013.167000   16.100000   492.231300    4.000000   \n",
       "75%    311.500000  2013.417000   29.600000  1448.504000    6.000000   \n",
       "max    414.000000  2013.583000   43.800000  6396.283000   10.000000   \n",
       "\n",
       "               X5          X6           Y  \n",
       "count  331.000000  331.000000  331.000000  \n",
       "mean    24.969250  121.533541   37.623565  \n",
       "std      0.012326    0.015267   12.960756  \n",
       "min     24.933630  121.475160    7.600000  \n",
       "25%     24.963050  121.529675   27.300000  \n",
       "50%     24.971100  121.538440   38.300000  \n",
       "75%     24.978045  121.543395   46.150000  \n",
       "max     25.014590  121.566270   78.300000  "
      ]
     },
     "execution_count": 395,
     "metadata": {},
     "output_type": "execute_result"
    }
   ],
   "source": [
    "strat_train_set.describe()"
   ]
  },
  {
   "cell_type": "code",
   "execution_count": 396,
   "metadata": {},
   "outputs": [
    {
     "name": "stdout",
     "output_type": "stream",
     "text": [
      "<class 'pandas.core.frame.DataFrame'>\n",
      "Index: 83 entries, 119 to 151\n",
      "Data columns (total 8 columns):\n",
      " #   Column  Non-Null Count  Dtype  \n",
      "---  ------  --------------  -----  \n",
      " 0   No      83 non-null     int64  \n",
      " 1   X1      83 non-null     float64\n",
      " 2   X2      83 non-null     float64\n",
      " 3   X3      83 non-null     float64\n",
      " 4   X4      83 non-null     int64  \n",
      " 5   X5      83 non-null     float64\n",
      " 6   X6      83 non-null     float64\n",
      " 7   Y       83 non-null     float64\n",
      "dtypes: float64(6), int64(2)\n",
      "memory usage: 5.8 KB\n"
     ]
    }
   ],
   "source": [
    "strat_test_set.info()"
   ]
  },
  {
   "cell_type": "code",
   "execution_count": 397,
   "metadata": {},
   "outputs": [
    {
     "data": {
      "text/plain": [
       "X4\n",
       "5     14\n",
       "0     14\n",
       "3      9\n",
       "1      9\n",
       "6      7\n",
       "4      6\n",
       "7      6\n",
       "8      6\n",
       "9      5\n",
       "2      5\n",
       "10     2\n",
       "Name: count, dtype: int64"
      ]
     },
     "execution_count": 397,
     "metadata": {},
     "output_type": "execute_result"
    }
   ],
   "source": [
    "strat_test_set['X4'].value_counts()"
   ]
  },
  {
   "cell_type": "code",
   "execution_count": 398,
   "metadata": {},
   "outputs": [
    {
     "data": {
      "text/plain": [
       "X4\n",
       "0     53\n",
       "5     53\n",
       "3     37\n",
       "1     37\n",
       "6     30\n",
       "7     25\n",
       "4     25\n",
       "8     24\n",
       "9     20\n",
       "2     19\n",
       "10     8\n",
       "Name: count, dtype: int64"
      ]
     },
     "execution_count": 398,
     "metadata": {},
     "output_type": "execute_result"
    }
   ],
   "source": [
    "strat_train_set['X4'].value_counts()"
   ]
  },
  {
   "cell_type": "code",
   "execution_count": 399,
   "metadata": {},
   "outputs": [],
   "source": [
    "housing = strat_train_set.copy()"
   ]
  },
  {
   "cell_type": "code",
   "execution_count": 400,
   "metadata": {},
   "outputs": [
    {
     "data": {
      "text/plain": [
       "Y     1.000000\n",
       "X4    0.636209\n",
       "X5    0.569626\n",
       "X6    0.535064\n",
       "X1    0.054334\n",
       "No   -0.022784\n",
       "X2   -0.182001\n",
       "X3   -0.692165\n",
       "Name: Y, dtype: float64"
      ]
     },
     "execution_count": 400,
     "metadata": {},
     "output_type": "execute_result"
    }
   ],
   "source": [
    "corr_matrix = housing.corr()\n",
    "corr_matrix['Y'].sort_values(ascending=False)\n"
   ]
  },
  {
   "cell_type": "code",
   "execution_count": 401,
   "metadata": {},
   "outputs": [
    {
     "data": {
      "text/plain": [
       "array([[<Axes: xlabel='Y', ylabel='Y'>, <Axes: xlabel='X4', ylabel='Y'>,\n",
       "        <Axes: xlabel='X3', ylabel='Y'>],\n",
       "       [<Axes: xlabel='Y', ylabel='X4'>,\n",
       "        <Axes: xlabel='X4', ylabel='X4'>,\n",
       "        <Axes: xlabel='X3', ylabel='X4'>],\n",
       "       [<Axes: xlabel='Y', ylabel='X3'>,\n",
       "        <Axes: xlabel='X4', ylabel='X3'>,\n",
       "        <Axes: xlabel='X3', ylabel='X3'>]], dtype=object)"
      ]
     },
     "execution_count": 401,
     "metadata": {},
     "output_type": "execute_result"
    },
    {
     "data": {
      "image/png": "[encoded data removed]",
      "text/plain": [
       "<Figure size 1200x800 with 9 Axes>"
      ]
     },
     "metadata": {},
     "output_type": "display_data"
    }
   ],
   "source": [
    "from pandas.plotting import scatter_matrix\n",
    "attributes = ['Y','X4','X3']\n",
    "scatter_matrix(housing[attributes],figsize=(12,8))"
   ]
  },
  {
   "cell_type": "code",
   "execution_count": 402,
   "metadata": {},
   "outputs": [
    {
     "data": {
      "text/plain": [
       "<Axes: xlabel='X3', ylabel='Y'>"
      ]
     },
     "execution_count": 402,
     "metadata": {},
     "output_type": "execute_result"
    },
    {
     "data": {
      "image/png": "[encoded data removed]",
      "text/plain": [
       "<Figure size 640x480 with 1 Axes>"
      ]
     },
     "metadata": {},
     "output_type": "display_data"
    }
   ],
   "source": [
    "housing.plot(kind=\"scatter\", x=\"X3\", y=\"Y\", alpha=0.4)"
   ]
  },
  {
   "cell_type": "code",
   "execution_count": 403,
   "metadata": {},
   "outputs": [],
   "source": [
    "housing =  strat_train_set.drop(\"Y\", axis=1)\n",
    "housing_labels =  strat_train_set[\"Y\"].copy()"
   ]
  },
  {
   "cell_type": "code",
   "execution_count": 404,
   "metadata": {},
   "outputs": [
    {
     "data": {
      "text/html": [
       "<div>\n",
       "<style scoped>\n",
       "    .dataframe tbody tr th:only-of-type {\n",
       "        vertical-align: middle;\n",
       "    }\n",
       "\n",
       "    .dataframe tbody tr th {\n",
       "        vertical-align: top;\n",
       "    }\n",
       "\n",
       "    .dataframe thead th {\n",
       "        text-align: right;\n",
       "    }\n",
       "</style>\n",
       "<table border=\"1\" class=\"dataframe\">\n",
       "  <thead>\n",
       "    <tr style=\"text-align: right;\">\n",
       "      <th></th>\n",
       "      <th>No</th>\n",
       "      <th>X1</th>\n",
       "      <th>X2</th>\n",
       "      <th>X3</th>\n",
       "      <th>X4</th>\n",
       "      <th>X5</th>\n",
       "      <th>X6</th>\n",
       "    </tr>\n",
       "  </thead>\n",
       "  <tbody>\n",
       "    <tr>\n",
       "      <th>count</th>\n",
       "      <td>331.000000</td>\n",
       "      <td>331.000000</td>\n",
       "      <td>331.000000</td>\n",
       "      <td>331.000000</td>\n",
       "      <td>331.000000</td>\n",
       "      <td>331.000000</td>\n",
       "      <td>331.000000</td>\n",
       "    </tr>\n",
       "    <tr>\n",
       "      <th>mean</th>\n",
       "      <td>209.368580</td>\n",
       "      <td>2013.142767</td>\n",
       "      <td>18.019033</td>\n",
       "      <td>1080.612966</td>\n",
       "      <td>4.102719</td>\n",
       "      <td>24.969250</td>\n",
       "      <td>121.533541</td>\n",
       "    </tr>\n",
       "    <tr>\n",
       "      <th>std</th>\n",
       "      <td>120.383667</td>\n",
       "      <td>0.280728</td>\n",
       "      <td>11.497031</td>\n",
       "      <td>1250.250085</td>\n",
       "      <td>2.944182</td>\n",
       "      <td>0.012326</td>\n",
       "      <td>0.015267</td>\n",
       "    </tr>\n",
       "    <tr>\n",
       "      <th>min</th>\n",
       "      <td>1.000000</td>\n",
       "      <td>2012.667000</td>\n",
       "      <td>0.000000</td>\n",
       "      <td>23.382840</td>\n",
       "      <td>0.000000</td>\n",
       "      <td>24.933630</td>\n",
       "      <td>121.475160</td>\n",
       "    </tr>\n",
       "    <tr>\n",
       "      <th>25%</th>\n",
       "      <td>103.500000</td>\n",
       "      <td>2012.917000</td>\n",
       "      <td>9.100000</td>\n",
       "      <td>289.324800</td>\n",
       "      <td>1.000000</td>\n",
       "      <td>24.963050</td>\n",
       "      <td>121.529675</td>\n",
       "    </tr>\n",
       "    <tr>\n",
       "      <th>50%</th>\n",
       "      <td>209.000000</td>\n",
       "      <td>2013.167000</td>\n",
       "      <td>16.100000</td>\n",
       "      <td>492.231300</td>\n",
       "      <td>4.000000</td>\n",
       "      <td>24.971100</td>\n",
       "      <td>121.538440</td>\n",
       "    </tr>\n",
       "    <tr>\n",
       "      <th>75%</th>\n",
       "      <td>311.500000</td>\n",
       "      <td>2013.417000</td>\n",
       "      <td>29.600000</td>\n",
       "      <td>1448.504000</td>\n",
       "      <td>6.000000</td>\n",
       "      <td>24.978045</td>\n",
       "      <td>121.543395</td>\n",
       "    </tr>\n",
       "    <tr>\n",
       "      <th>max</th>\n",
       "      <td>414.000000</td>\n",
       "      <td>2013.583000</td>\n",
       "      <td>43.800000</td>\n",
       "      <td>6396.283000</td>\n",
       "      <td>10.000000</td>\n",
       "      <td>25.014590</td>\n",
       "      <td>121.566270</td>\n",
       "    </tr>\n",
       "  </tbody>\n",
       "</table>\n",
       "</div>"
      ],
      "text/plain": [
       "               No           X1          X2           X3          X4  \\\n",
       "count  331.000000   331.000000  331.000000   331.000000  331.000000   \n",
       "mean   209.368580  2013.142767   18.019033  1080.612966    4.102719   \n",
       "std    120.383667     0.280728   11.497031  1250.250085    2.944182   \n",
       "min      1.000000  2012.667000    0.000000    23.382840    0.000000   \n",
       "25%    103.500000  2012.917000    9.100000   289.324800    1.000000   \n",
       "50%    209.000000  2013.167000   16.100000   492.231300    4.000000   \n",
       "75%    311.500000  2013.417000   29.600000  1448.504000    6.000000   \n",
       "max    414.000000  2013.583000   43.800000  6396.283000   10.000000   \n",
       "\n",
       "               X5          X6  \n",
       "count  331.000000  331.000000  \n",
       "mean    24.969250  121.533541  \n",
       "std      0.012326    0.015267  \n",
       "min     24.933630  121.475160  \n",
       "25%     24.963050  121.529675  \n",
       "50%     24.971100  121.538440  \n",
       "75%     24.978045  121.543395  \n",
       "max     25.014590  121.566270  "
      ]
     },
     "execution_count": 404,
     "metadata": {},
     "output_type": "execute_result"
    }
   ],
   "source": [
    "housing.describe()"
   ]
  },
  {
   "cell_type": "code",
   "execution_count": 405,
   "metadata": {},
   "outputs": [
    {
     "data": {
      "text/plain": [
       "(331, 7)"
      ]
     },
     "execution_count": 405,
     "metadata": {},
     "output_type": "execute_result"
    }
   ],
   "source": [
    "housing.shape"
   ]
  },
  {
   "cell_type": "code",
   "execution_count": 406,
   "metadata": {},
   "outputs": [
    {
     "data": {
      "text/html": [
       "<div>\n",
       "<style scoped>\n",
       "    .dataframe tbody tr th:only-of-type {\n",
       "        vertical-align: middle;\n",
       "    }\n",
       "\n",
       "    .dataframe tbody tr th {\n",
       "        vertical-align: top;\n",
       "    }\n",
       "\n",
       "    .dataframe thead th {\n",
       "        text-align: right;\n",
       "    }\n",
       "</style>\n",
       "<table border=\"1\" class=\"dataframe\">\n",
       "  <thead>\n",
       "    <tr style=\"text-align: right;\">\n",
       "      <th></th>\n",
       "      <th>No</th>\n",
       "      <th>X1</th>\n",
       "      <th>X2</th>\n",
       "      <th>X3</th>\n",
       "      <th>X4</th>\n",
       "      <th>X5</th>\n",
       "      <th>X6</th>\n",
       "    </tr>\n",
       "  </thead>\n",
       "  <tbody>\n",
       "    <tr>\n",
       "      <th>369</th>\n",
       "      <td>370</td>\n",
       "      <td>2012.667</td>\n",
       "      <td>20.2</td>\n",
       "      <td>2185.12800</td>\n",
       "      <td>3</td>\n",
       "      <td>24.96322</td>\n",
       "      <td>121.51237</td>\n",
       "    </tr>\n",
       "    <tr>\n",
       "      <th>360</th>\n",
       "      <td>361</td>\n",
       "      <td>2012.667</td>\n",
       "      <td>32.9</td>\n",
       "      <td>87.30222</td>\n",
       "      <td>10</td>\n",
       "      <td>24.98300</td>\n",
       "      <td>121.54022</td>\n",
       "    </tr>\n",
       "    <tr>\n",
       "      <th>180</th>\n",
       "      <td>181</td>\n",
       "      <td>2012.667</td>\n",
       "      <td>26.9</td>\n",
       "      <td>4449.27000</td>\n",
       "      <td>0</td>\n",
       "      <td>24.94898</td>\n",
       "      <td>121.49621</td>\n",
       "    </tr>\n",
       "    <tr>\n",
       "      <th>188</th>\n",
       "      <td>189</td>\n",
       "      <td>2012.917</td>\n",
       "      <td>34.8</td>\n",
       "      <td>190.03920</td>\n",
       "      <td>8</td>\n",
       "      <td>24.97707</td>\n",
       "      <td>121.54312</td>\n",
       "    </tr>\n",
       "    <tr>\n",
       "      <th>404</th>\n",
       "      <td>405</td>\n",
       "      <td>2013.333</td>\n",
       "      <td>16.4</td>\n",
       "      <td>289.32480</td>\n",
       "      <td>5</td>\n",
       "      <td>24.98203</td>\n",
       "      <td>121.54348</td>\n",
       "    </tr>\n",
       "    <tr>\n",
       "      <th>...</th>\n",
       "      <td>...</td>\n",
       "      <td>...</td>\n",
       "      <td>...</td>\n",
       "      <td>...</td>\n",
       "      <td>...</td>\n",
       "      <td>...</td>\n",
       "      <td>...</td>\n",
       "    </tr>\n",
       "    <tr>\n",
       "      <th>10</th>\n",
       "      <td>11</td>\n",
       "      <td>2013.083</td>\n",
       "      <td>34.8</td>\n",
       "      <td>405.21340</td>\n",
       "      <td>1</td>\n",
       "      <td>24.97349</td>\n",
       "      <td>121.53372</td>\n",
       "    </tr>\n",
       "    <tr>\n",
       "      <th>381</th>\n",
       "      <td>382</td>\n",
       "      <td>2013.417</td>\n",
       "      <td>8.0</td>\n",
       "      <td>132.54690</td>\n",
       "      <td>9</td>\n",
       "      <td>24.98298</td>\n",
       "      <td>121.53981</td>\n",
       "    </tr>\n",
       "    <tr>\n",
       "      <th>159</th>\n",
       "      <td>160</td>\n",
       "      <td>2012.667</td>\n",
       "      <td>15.5</td>\n",
       "      <td>815.93140</td>\n",
       "      <td>4</td>\n",
       "      <td>24.97886</td>\n",
       "      <td>121.53464</td>\n",
       "    </tr>\n",
       "    <tr>\n",
       "      <th>141</th>\n",
       "      <td>142</td>\n",
       "      <td>2013.333</td>\n",
       "      <td>5.1</td>\n",
       "      <td>1559.82700</td>\n",
       "      <td>3</td>\n",
       "      <td>24.97213</td>\n",
       "      <td>121.51627</td>\n",
       "    </tr>\n",
       "    <tr>\n",
       "      <th>292</th>\n",
       "      <td>293</td>\n",
       "      <td>2013.083</td>\n",
       "      <td>17.5</td>\n",
       "      <td>395.67470</td>\n",
       "      <td>5</td>\n",
       "      <td>24.95674</td>\n",
       "      <td>121.53400</td>\n",
       "    </tr>\n",
       "  </tbody>\n",
       "</table>\n",
       "<p>331 rows × 7 columns</p>\n",
       "</div>"
      ],
      "text/plain": [
       "      No        X1    X2          X3  X4        X5         X6\n",
       "369  370  2012.667  20.2  2185.12800   3  24.96322  121.51237\n",
       "360  361  2012.667  32.9    87.30222  10  24.98300  121.54022\n",
       "180  181  2012.667  26.9  4449.27000   0  24.94898  121.49621\n",
       "188  189  2012.917  34.8   190.03920   8  24.97707  121.54312\n",
       "404  405  2013.333  16.4   289.32480   5  24.98203  121.54348\n",
       "..   ...       ...   ...         ...  ..       ...        ...\n",
       "10    11  2013.083  34.8   405.21340   1  24.97349  121.53372\n",
       "381  382  2013.417   8.0   132.54690   9  24.98298  121.53981\n",
       "159  160  2012.667  15.5   815.93140   4  24.97886  121.53464\n",
       "141  142  2013.333   5.1  1559.82700   3  24.97213  121.51627\n",
       "292  293  2013.083  17.5   395.67470   5  24.95674  121.53400\n",
       "\n",
       "[331 rows x 7 columns]"
      ]
     },
     "execution_count": 406,
     "metadata": {},
     "output_type": "execute_result"
    }
   ],
   "source": [
    "#housing.at[3,'X4'] =None\n",
    "#housing.at[5,'X4'] =None\n",
    "#housing.at[8,'X4'] =None\n",
    "#housing.at[25,'X4'] =None\n",
    "housing"
   ]
  },
  {
   "cell_type": "code",
   "execution_count": 407,
   "metadata": {},
   "outputs": [
    {
     "data": {
      "text/plain": [
       "(331, 7)"
      ]
     },
     "execution_count": 407,
     "metadata": {},
     "output_type": "execute_result"
    }
   ],
   "source": [
    "housing.shape"
   ]
  },
  {
   "cell_type": "code",
   "execution_count": 408,
   "metadata": {},
   "outputs": [
    {
     "data": {
      "text/html": [
       "<div>\n",
       "<style scoped>\n",
       "    .dataframe tbody tr th:only-of-type {\n",
       "        vertical-align: middle;\n",
       "    }\n",
       "\n",
       "    .dataframe tbody tr th {\n",
       "        vertical-align: top;\n",
       "    }\n",
       "\n",
       "    .dataframe thead th {\n",
       "        text-align: right;\n",
       "    }\n",
       "</style>\n",
       "<table border=\"1\" class=\"dataframe\">\n",
       "  <thead>\n",
       "    <tr style=\"text-align: right;\">\n",
       "      <th></th>\n",
       "      <th>No</th>\n",
       "      <th>X1</th>\n",
       "      <th>X2</th>\n",
       "      <th>X3</th>\n",
       "      <th>X4</th>\n",
       "      <th>X5</th>\n",
       "      <th>X6</th>\n",
       "    </tr>\n",
       "  </thead>\n",
       "  <tbody>\n",
       "    <tr>\n",
       "      <th>369</th>\n",
       "      <td>370</td>\n",
       "      <td>2012.667</td>\n",
       "      <td>20.2</td>\n",
       "      <td>2185.12800</td>\n",
       "      <td>3</td>\n",
       "      <td>24.96322</td>\n",
       "      <td>121.51237</td>\n",
       "    </tr>\n",
       "    <tr>\n",
       "      <th>360</th>\n",
       "      <td>361</td>\n",
       "      <td>2012.667</td>\n",
       "      <td>32.9</td>\n",
       "      <td>87.30222</td>\n",
       "      <td>10</td>\n",
       "      <td>24.98300</td>\n",
       "      <td>121.54022</td>\n",
       "    </tr>\n",
       "    <tr>\n",
       "      <th>180</th>\n",
       "      <td>181</td>\n",
       "      <td>2012.667</td>\n",
       "      <td>26.9</td>\n",
       "      <td>4449.27000</td>\n",
       "      <td>0</td>\n",
       "      <td>24.94898</td>\n",
       "      <td>121.49621</td>\n",
       "    </tr>\n",
       "    <tr>\n",
       "      <th>188</th>\n",
       "      <td>189</td>\n",
       "      <td>2012.917</td>\n",
       "      <td>34.8</td>\n",
       "      <td>190.03920</td>\n",
       "      <td>8</td>\n",
       "      <td>24.97707</td>\n",
       "      <td>121.54312</td>\n",
       "    </tr>\n",
       "    <tr>\n",
       "      <th>404</th>\n",
       "      <td>405</td>\n",
       "      <td>2013.333</td>\n",
       "      <td>16.4</td>\n",
       "      <td>289.32480</td>\n",
       "      <td>5</td>\n",
       "      <td>24.98203</td>\n",
       "      <td>121.54348</td>\n",
       "    </tr>\n",
       "    <tr>\n",
       "      <th>...</th>\n",
       "      <td>...</td>\n",
       "      <td>...</td>\n",
       "      <td>...</td>\n",
       "      <td>...</td>\n",
       "      <td>...</td>\n",
       "      <td>...</td>\n",
       "      <td>...</td>\n",
       "    </tr>\n",
       "    <tr>\n",
       "      <th>10</th>\n",
       "      <td>11</td>\n",
       "      <td>2013.083</td>\n",
       "      <td>34.8</td>\n",
       "      <td>405.21340</td>\n",
       "      <td>1</td>\n",
       "      <td>24.97349</td>\n",
       "      <td>121.53372</td>\n",
       "    </tr>\n",
       "    <tr>\n",
       "      <th>381</th>\n",
       "      <td>382</td>\n",
       "      <td>2013.417</td>\n",
       "      <td>8.0</td>\n",
       "      <td>132.54690</td>\n",
       "      <td>9</td>\n",
       "      <td>24.98298</td>\n",
       "      <td>121.53981</td>\n",
       "    </tr>\n",
       "    <tr>\n",
       "      <th>159</th>\n",
       "      <td>160</td>\n",
       "      <td>2012.667</td>\n",
       "      <td>15.5</td>\n",
       "      <td>815.93140</td>\n",
       "      <td>4</td>\n",
       "      <td>24.97886</td>\n",
       "      <td>121.53464</td>\n",
       "    </tr>\n",
       "    <tr>\n",
       "      <th>141</th>\n",
       "      <td>142</td>\n",
       "      <td>2013.333</td>\n",
       "      <td>5.1</td>\n",
       "      <td>1559.82700</td>\n",
       "      <td>3</td>\n",
       "      <td>24.97213</td>\n",
       "      <td>121.51627</td>\n",
       "    </tr>\n",
       "    <tr>\n",
       "      <th>292</th>\n",
       "      <td>293</td>\n",
       "      <td>2013.083</td>\n",
       "      <td>17.5</td>\n",
       "      <td>395.67470</td>\n",
       "      <td>5</td>\n",
       "      <td>24.95674</td>\n",
       "      <td>121.53400</td>\n",
       "    </tr>\n",
       "  </tbody>\n",
       "</table>\n",
       "<p>331 rows × 7 columns</p>\n",
       "</div>"
      ],
      "text/plain": [
       "      No        X1    X2          X3  X4        X5         X6\n",
       "369  370  2012.667  20.2  2185.12800   3  24.96322  121.51237\n",
       "360  361  2012.667  32.9    87.30222  10  24.98300  121.54022\n",
       "180  181  2012.667  26.9  4449.27000   0  24.94898  121.49621\n",
       "188  189  2012.917  34.8   190.03920   8  24.97707  121.54312\n",
       "404  405  2013.333  16.4   289.32480   5  24.98203  121.54348\n",
       "..   ...       ...   ...         ...  ..       ...        ...\n",
       "10    11  2013.083  34.8   405.21340   1  24.97349  121.53372\n",
       "381  382  2013.417   8.0   132.54690   9  24.98298  121.53981\n",
       "159  160  2012.667  15.5   815.93140   4  24.97886  121.53464\n",
       "141  142  2013.333   5.1  1559.82700   3  24.97213  121.51627\n",
       "292  293  2013.083  17.5   395.67470   5  24.95674  121.53400\n",
       "\n",
       "[331 rows x 7 columns]"
      ]
     },
     "execution_count": 408,
     "metadata": {},
     "output_type": "execute_result"
    }
   ],
   "source": [
    "a = housing.dropna(subset=[\"X4\"])\n",
    "a"
   ]
  },
  {
   "cell_type": "code",
   "execution_count": 409,
   "metadata": {},
   "outputs": [
    {
     "data": {
      "text/plain": [
       "(331, 7)"
      ]
     },
     "execution_count": 409,
     "metadata": {},
     "output_type": "execute_result"
    }
   ],
   "source": [
    "a.shape"
   ]
  },
  {
   "cell_type": "code",
   "execution_count": 410,
   "metadata": {},
   "outputs": [
    {
     "data": {
      "text/html": [
       "<div>\n",
       "<style scoped>\n",
       "    .dataframe tbody tr th:only-of-type {\n",
       "        vertical-align: middle;\n",
       "    }\n",
       "\n",
       "    .dataframe tbody tr th {\n",
       "        vertical-align: top;\n",
       "    }\n",
       "\n",
       "    .dataframe thead th {\n",
       "        text-align: right;\n",
       "    }\n",
       "</style>\n",
       "<table border=\"1\" class=\"dataframe\">\n",
       "  <thead>\n",
       "    <tr style=\"text-align: right;\">\n",
       "      <th></th>\n",
       "      <th>No</th>\n",
       "      <th>X1</th>\n",
       "      <th>X2</th>\n",
       "      <th>X3</th>\n",
       "      <th>X5</th>\n",
       "      <th>X6</th>\n",
       "    </tr>\n",
       "  </thead>\n",
       "  <tbody>\n",
       "    <tr>\n",
       "      <th>369</th>\n",
       "      <td>370</td>\n",
       "      <td>2012.667</td>\n",
       "      <td>20.2</td>\n",
       "      <td>2185.12800</td>\n",
       "      <td>24.96322</td>\n",
       "      <td>121.51237</td>\n",
       "    </tr>\n",
       "    <tr>\n",
       "      <th>360</th>\n",
       "      <td>361</td>\n",
       "      <td>2012.667</td>\n",
       "      <td>32.9</td>\n",
       "      <td>87.30222</td>\n",
       "      <td>24.98300</td>\n",
       "      <td>121.54022</td>\n",
       "    </tr>\n",
       "    <tr>\n",
       "      <th>180</th>\n",
       "      <td>181</td>\n",
       "      <td>2012.667</td>\n",
       "      <td>26.9</td>\n",
       "      <td>4449.27000</td>\n",
       "      <td>24.94898</td>\n",
       "      <td>121.49621</td>\n",
       "    </tr>\n",
       "    <tr>\n",
       "      <th>188</th>\n",
       "      <td>189</td>\n",
       "      <td>2012.917</td>\n",
       "      <td>34.8</td>\n",
       "      <td>190.03920</td>\n",
       "      <td>24.97707</td>\n",
       "      <td>121.54312</td>\n",
       "    </tr>\n",
       "    <tr>\n",
       "      <th>404</th>\n",
       "      <td>405</td>\n",
       "      <td>2013.333</td>\n",
       "      <td>16.4</td>\n",
       "      <td>289.32480</td>\n",
       "      <td>24.98203</td>\n",
       "      <td>121.54348</td>\n",
       "    </tr>\n",
       "    <tr>\n",
       "      <th>...</th>\n",
       "      <td>...</td>\n",
       "      <td>...</td>\n",
       "      <td>...</td>\n",
       "      <td>...</td>\n",
       "      <td>...</td>\n",
       "      <td>...</td>\n",
       "    </tr>\n",
       "    <tr>\n",
       "      <th>10</th>\n",
       "      <td>11</td>\n",
       "      <td>2013.083</td>\n",
       "      <td>34.8</td>\n",
       "      <td>405.21340</td>\n",
       "      <td>24.97349</td>\n",
       "      <td>121.53372</td>\n",
       "    </tr>\n",
       "    <tr>\n",
       "      <th>381</th>\n",
       "      <td>382</td>\n",
       "      <td>2013.417</td>\n",
       "      <td>8.0</td>\n",
       "      <td>132.54690</td>\n",
       "      <td>24.98298</td>\n",
       "      <td>121.53981</td>\n",
       "    </tr>\n",
       "    <tr>\n",
       "      <th>159</th>\n",
       "      <td>160</td>\n",
       "      <td>2012.667</td>\n",
       "      <td>15.5</td>\n",
       "      <td>815.93140</td>\n",
       "      <td>24.97886</td>\n",
       "      <td>121.53464</td>\n",
       "    </tr>\n",
       "    <tr>\n",
       "      <th>141</th>\n",
       "      <td>142</td>\n",
       "      <td>2013.333</td>\n",
       "      <td>5.1</td>\n",
       "      <td>1559.82700</td>\n",
       "      <td>24.97213</td>\n",
       "      <td>121.51627</td>\n",
       "    </tr>\n",
       "    <tr>\n",
       "      <th>292</th>\n",
       "      <td>293</td>\n",
       "      <td>2013.083</td>\n",
       "      <td>17.5</td>\n",
       "      <td>395.67470</td>\n",
       "      <td>24.95674</td>\n",
       "      <td>121.53400</td>\n",
       "    </tr>\n",
       "  </tbody>\n",
       "</table>\n",
       "<p>331 rows × 6 columns</p>\n",
       "</div>"
      ],
      "text/plain": [
       "      No        X1    X2          X3        X5         X6\n",
       "369  370  2012.667  20.2  2185.12800  24.96322  121.51237\n",
       "360  361  2012.667  32.9    87.30222  24.98300  121.54022\n",
       "180  181  2012.667  26.9  4449.27000  24.94898  121.49621\n",
       "188  189  2012.917  34.8   190.03920  24.97707  121.54312\n",
       "404  405  2013.333  16.4   289.32480  24.98203  121.54348\n",
       "..   ...       ...   ...         ...       ...        ...\n",
       "10    11  2013.083  34.8   405.21340  24.97349  121.53372\n",
       "381  382  2013.417   8.0   132.54690  24.98298  121.53981\n",
       "159  160  2012.667  15.5   815.93140  24.97886  121.53464\n",
       "141  142  2013.333   5.1  1559.82700  24.97213  121.51627\n",
       "292  293  2013.083  17.5   395.67470  24.95674  121.53400\n",
       "\n",
       "[331 rows x 6 columns]"
      ]
     },
     "execution_count": 410,
     "metadata": {},
     "output_type": "execute_result"
    }
   ],
   "source": [
    "a = housing.drop(\"X4\",axis=1)\n",
    "a"
   ]
  },
  {
   "cell_type": "code",
   "execution_count": 411,
   "metadata": {},
   "outputs": [
    {
     "data": {
      "text/plain": [
       "(331, 6)"
      ]
     },
     "execution_count": 411,
     "metadata": {},
     "output_type": "execute_result"
    }
   ],
   "source": [
    "a.shape"
   ]
  },
  {
   "cell_type": "code",
   "execution_count": 412,
   "metadata": {},
   "outputs": [
    {
     "data": {
      "text/plain": [
       "369     3\n",
       "360    10\n",
       "180     0\n",
       "188     8\n",
       "404     5\n",
       "       ..\n",
       "10      1\n",
       "381     9\n",
       "159     4\n",
       "141     3\n",
       "292     5\n",
       "Name: X4, Length: 331, dtype: int64"
      ]
     },
     "execution_count": 412,
     "metadata": {},
     "output_type": "execute_result"
    }
   ],
   "source": [
    "median = housing[\"X4\"].median()\n",
    "housing[\"X4\"].fillna(median)"
   ]
  },
  {
   "cell_type": "code",
   "execution_count": 413,
   "metadata": {},
   "outputs": [
    {
     "data": {
      "text/plain": [
       "(331, 7)"
      ]
     },
     "execution_count": 413,
     "metadata": {},
     "output_type": "execute_result"
    }
   ],
   "source": [
    "housing.shape"
   ]
  },
  {
   "cell_type": "code",
   "execution_count": 414,
   "metadata": {},
   "outputs": [
    {
     "data": {
      "text/html": [
       "<style>#sk-container-id-16 {color: black;}#sk-container-id-16 pre{padding: 0;}#sk-container-id-16 div.sk-toggleable {background-color: white;}#sk-container-id-16 label.sk-toggleable__label {cursor: pointer;display: block;width: 100%;margin-bottom: 0;padding: 0.3em;box-sizing: border-box;text-align: center;}#sk-container-id-16 label.sk-toggleable__label-arrow:before {content: \"▸\";float: left;margin-right: 0.25em;color: #696969;}#sk-container-id-16 label.sk-toggleable__label-arrow:hover:before {color: black;}#sk-container-id-16 div.sk-estimator:hover label.sk-toggleable__label-arrow:before {color: black;}#sk-container-id-16 div.sk-toggleable__content {max-height: 0;max-width: 0;overflow: hidden;text-align: left;background-color: #f0f8ff;}#sk-container-id-16 div.sk-toggleable__content pre {margin: 0.2em;color: black;border-radius: 0.25em;background-color: #f0f8ff;}#sk-container-id-16 input.sk-toggleable__control:checked~div.sk-toggleable__content {max-height: 200px;max-width: 100%;overflow: auto;}#sk-container-id-16 input.sk-toggleable__control:checked~label.sk-toggleable__label-arrow:before {content: \"▾\";}#sk-container-id-16 div.sk-estimator input.sk-toggleable__control:checked~label.sk-toggleable__label {background-color: #d4ebff;}#sk-container-id-16 div.sk-label input.sk-toggleable__control:checked~label.sk-toggleable__label {background-color: #d4ebff;}#sk-container-id-16 input.sk-hidden--visually {border: 0;clip: rect(1px 1px 1px 1px);clip: rect(1px, 1px, 1px, 1px);height: 1px;margin: -1px;overflow: hidden;padding: 0;position: absolute;width: 1px;}#sk-container-id-16 div.sk-estimator {font-family: monospace;background-color: #f0f8ff;border: 1px dotted black;border-radius: 0.25em;box-sizing: border-box;margin-bottom: 0.5em;}#sk-container-id-16 div.sk-estimator:hover {background-color: #d4ebff;}#sk-container-id-16 div.sk-parallel-item::after {content: \"\";width: 100%;border-bottom: 1px solid gray;flex-grow: 1;}#sk-container-id-16 div.sk-label:hover label.sk-toggleable__label {background-color: #d4ebff;}#sk-container-id-16 div.sk-serial::before {content: \"\";position: absolute;border-left: 1px solid gray;box-sizing: border-box;top: 0;bottom: 0;left: 50%;z-index: 0;}#sk-container-id-16 div.sk-serial {display: flex;flex-direction: column;align-items: center;background-color: white;padding-right: 0.2em;padding-left: 0.2em;position: relative;}#sk-container-id-16 div.sk-item {position: relative;z-index: 1;}#sk-container-id-16 div.sk-parallel {display: flex;align-items: stretch;justify-content: center;background-color: white;position: relative;}#sk-container-id-16 div.sk-item::before, #sk-container-id-16 div.sk-parallel-item::before {content: \"\";position: absolute;border-left: 1px solid gray;box-sizing: border-box;top: 0;bottom: 0;left: 50%;z-index: -1;}#sk-container-id-16 div.sk-parallel-item {display: flex;flex-direction: column;z-index: 1;position: relative;background-color: white;}#sk-container-id-16 div.sk-parallel-item:first-child::after {align-self: flex-end;width: 50%;}#sk-container-id-16 div.sk-parallel-item:last-child::after {align-self: flex-start;width: 50%;}#sk-container-id-16 div.sk-parallel-item:only-child::after {width: 0;}#sk-container-id-16 div.sk-dashed-wrapped {border: 1px dashed gray;margin: 0 0.4em 0.5em 0.4em;box-sizing: border-box;padding-bottom: 0.4em;background-color: white;}#sk-container-id-16 div.sk-label label {font-family: monospace;font-weight: bold;display: inline-block;line-height: 1.2em;}#sk-container-id-16 div.sk-label-container {text-align: center;}#sk-container-id-16 div.sk-container {/* jupyter's `normalize.less` sets `[hidden] { display: none; }` but bootstrap.min.css set `[hidden] { display: none !important; }` so we also need the `!important` here to be able to override the default hidden behavior on the sphinx rendered scikit-learn.org. See: https://github.com/scikit-learn/scikit-learn/issues/21755 */display: inline-block !important;position: relative;}#sk-container-id-16 div.sk-text-repr-fallback {display: none;}</style><div id=\"sk-container-id-16\" class=\"sk-top-container\"><div class=\"sk-text-repr-fallback\"><pre>SimpleImputer(strategy=&#x27;median&#x27;)</pre><b>In a Jupyter environment, please rerun this cell to show the HTML representation or trust the notebook. <br />On GitHub, the HTML representation is unable to render, please try loading this page with nbviewer.org.</b></div><div class=\"sk-container\" hidden><div class=\"sk-item\"><div class=\"sk-estimator sk-toggleable\"><input class=\"sk-toggleable__control sk-hidden--visually\" id=\"sk-estimator-id-16\" type=\"checkbox\" checked><label for=\"sk-estimator-id-16\" class=\"sk-toggleable__label sk-toggleable__label-arrow\">SimpleImputer</label><div class=\"sk-toggleable__content\"><pre>SimpleImputer(strategy=&#x27;median&#x27;)</pre></div></div></div></div></div>"
      ],
      "text/plain": [
       "SimpleImputer(strategy='median')"
      ]
     },
     "execution_count": 414,
     "metadata": {},
     "output_type": "execute_result"
    }
   ],
   "source": [
    "from sklearn.impute import SimpleImputer\n",
    "imputer = SimpleImputer(strategy = \"median\")\n",
    "imputer.fit(housing)"
   ]
  },
  {
   "cell_type": "code",
   "execution_count": 415,
   "metadata": {},
   "outputs": [
    {
     "data": {
      "text/plain": [
       "array([ 209.     , 2013.167  ,   16.1    ,  492.2313 ,    4.     ,\n",
       "         24.9711 ,  121.53844])"
      ]
     },
     "execution_count": 415,
     "metadata": {},
     "output_type": "execute_result"
    }
   ],
   "source": [
    "imputer.statistics_"
   ]
  },
  {
   "cell_type": "code",
   "execution_count": 416,
   "metadata": {},
   "outputs": [
    {
     "data": {
      "text/html": [
       "<div>\n",
       "<style scoped>\n",
       "    .dataframe tbody tr th:only-of-type {\n",
       "        vertical-align: middle;\n",
       "    }\n",
       "\n",
       "    .dataframe tbody tr th {\n",
       "        vertical-align: top;\n",
       "    }\n",
       "\n",
       "    .dataframe thead th {\n",
       "        text-align: right;\n",
       "    }\n",
       "</style>\n",
       "<table border=\"1\" class=\"dataframe\">\n",
       "  <thead>\n",
       "    <tr style=\"text-align: right;\">\n",
       "      <th></th>\n",
       "      <th>No</th>\n",
       "      <th>X1</th>\n",
       "      <th>X2</th>\n",
       "      <th>X3</th>\n",
       "      <th>X4</th>\n",
       "      <th>X5</th>\n",
       "      <th>X6</th>\n",
       "    </tr>\n",
       "  </thead>\n",
       "  <tbody>\n",
       "    <tr>\n",
       "      <th>count</th>\n",
       "      <td>331.000000</td>\n",
       "      <td>331.000000</td>\n",
       "      <td>331.000000</td>\n",
       "      <td>331.000000</td>\n",
       "      <td>331.000000</td>\n",
       "      <td>331.000000</td>\n",
       "      <td>331.000000</td>\n",
       "    </tr>\n",
       "    <tr>\n",
       "      <th>mean</th>\n",
       "      <td>209.368580</td>\n",
       "      <td>2013.142767</td>\n",
       "      <td>18.019033</td>\n",
       "      <td>1080.612966</td>\n",
       "      <td>4.102719</td>\n",
       "      <td>24.969250</td>\n",
       "      <td>121.533541</td>\n",
       "    </tr>\n",
       "    <tr>\n",
       "      <th>std</th>\n",
       "      <td>120.383667</td>\n",
       "      <td>0.280728</td>\n",
       "      <td>11.497031</td>\n",
       "      <td>1250.250085</td>\n",
       "      <td>2.944182</td>\n",
       "      <td>0.012326</td>\n",
       "      <td>0.015267</td>\n",
       "    </tr>\n",
       "    <tr>\n",
       "      <th>min</th>\n",
       "      <td>1.000000</td>\n",
       "      <td>2012.667000</td>\n",
       "      <td>0.000000</td>\n",
       "      <td>23.382840</td>\n",
       "      <td>0.000000</td>\n",
       "      <td>24.933630</td>\n",
       "      <td>121.475160</td>\n",
       "    </tr>\n",
       "    <tr>\n",
       "      <th>25%</th>\n",
       "      <td>103.500000</td>\n",
       "      <td>2012.917000</td>\n",
       "      <td>9.100000</td>\n",
       "      <td>289.324800</td>\n",
       "      <td>1.000000</td>\n",
       "      <td>24.963050</td>\n",
       "      <td>121.529675</td>\n",
       "    </tr>\n",
       "    <tr>\n",
       "      <th>50%</th>\n",
       "      <td>209.000000</td>\n",
       "      <td>2013.167000</td>\n",
       "      <td>16.100000</td>\n",
       "      <td>492.231300</td>\n",
       "      <td>4.000000</td>\n",
       "      <td>24.971100</td>\n",
       "      <td>121.538440</td>\n",
       "    </tr>\n",
       "    <tr>\n",
       "      <th>75%</th>\n",
       "      <td>311.500000</td>\n",
       "      <td>2013.417000</td>\n",
       "      <td>29.600000</td>\n",
       "      <td>1448.504000</td>\n",
       "      <td>6.000000</td>\n",
       "      <td>24.978045</td>\n",
       "      <td>121.543395</td>\n",
       "    </tr>\n",
       "    <tr>\n",
       "      <th>max</th>\n",
       "      <td>414.000000</td>\n",
       "      <td>2013.583000</td>\n",
       "      <td>43.800000</td>\n",
       "      <td>6396.283000</td>\n",
       "      <td>10.000000</td>\n",
       "      <td>25.014590</td>\n",
       "      <td>121.566270</td>\n",
       "    </tr>\n",
       "  </tbody>\n",
       "</table>\n",
       "</div>"
      ],
      "text/plain": [
       "               No           X1          X2           X3          X4  \\\n",
       "count  331.000000   331.000000  331.000000   331.000000  331.000000   \n",
       "mean   209.368580  2013.142767   18.019033  1080.612966    4.102719   \n",
       "std    120.383667     0.280728   11.497031  1250.250085    2.944182   \n",
       "min      1.000000  2012.667000    0.000000    23.382840    0.000000   \n",
       "25%    103.500000  2012.917000    9.100000   289.324800    1.000000   \n",
       "50%    209.000000  2013.167000   16.100000   492.231300    4.000000   \n",
       "75%    311.500000  2013.417000   29.600000  1448.504000    6.000000   \n",
       "max    414.000000  2013.583000   43.800000  6396.283000   10.000000   \n",
       "\n",
       "               X5          X6  \n",
       "count  331.000000  331.000000  \n",
       "mean    24.969250  121.533541  \n",
       "std      0.012326    0.015267  \n",
       "min     24.933630  121.475160  \n",
       "25%     24.963050  121.529675  \n",
       "50%     24.971100  121.538440  \n",
       "75%     24.978045  121.543395  \n",
       "max     25.014590  121.566270  "
      ]
     },
     "execution_count": 416,
     "metadata": {},
     "output_type": "execute_result"
    }
   ],
   "source": [
    "x = imputer.transform(housing)\n",
    "housing_tr = pd.DataFrame(x, columns=housing.columns)\n",
    "housing_tr.describe()"
   ]
  },
  {
   "cell_type": "code",
   "execution_count": 417,
   "metadata": {},
   "outputs": [
    {
     "data": {
      "text/html": [
       "<div>\n",
       "<style scoped>\n",
       "    .dataframe tbody tr th:only-of-type {\n",
       "        vertical-align: middle;\n",
       "    }\n",
       "\n",
       "    .dataframe tbody tr th {\n",
       "        vertical-align: top;\n",
       "    }\n",
       "\n",
       "    .dataframe thead th {\n",
       "        text-align: right;\n",
       "    }\n",
       "</style>\n",
       "<table border=\"1\" class=\"dataframe\">\n",
       "  <thead>\n",
       "    <tr style=\"text-align: right;\">\n",
       "      <th></th>\n",
       "      <th>No</th>\n",
       "      <th>X1</th>\n",
       "      <th>X2</th>\n",
       "      <th>X3</th>\n",
       "      <th>X4</th>\n",
       "      <th>X5</th>\n",
       "      <th>X6</th>\n",
       "    </tr>\n",
       "  </thead>\n",
       "  <tbody>\n",
       "    <tr>\n",
       "      <th>0</th>\n",
       "      <td>370.0</td>\n",
       "      <td>2012.667</td>\n",
       "      <td>20.2</td>\n",
       "      <td>2185.12800</td>\n",
       "      <td>3.0</td>\n",
       "      <td>24.96322</td>\n",
       "      <td>121.51237</td>\n",
       "    </tr>\n",
       "    <tr>\n",
       "      <th>1</th>\n",
       "      <td>361.0</td>\n",
       "      <td>2012.667</td>\n",
       "      <td>32.9</td>\n",
       "      <td>87.30222</td>\n",
       "      <td>10.0</td>\n",
       "      <td>24.98300</td>\n",
       "      <td>121.54022</td>\n",
       "    </tr>\n",
       "    <tr>\n",
       "      <th>2</th>\n",
       "      <td>181.0</td>\n",
       "      <td>2012.667</td>\n",
       "      <td>26.9</td>\n",
       "      <td>4449.27000</td>\n",
       "      <td>0.0</td>\n",
       "      <td>24.94898</td>\n",
       "      <td>121.49621</td>\n",
       "    </tr>\n",
       "    <tr>\n",
       "      <th>3</th>\n",
       "      <td>189.0</td>\n",
       "      <td>2012.917</td>\n",
       "      <td>34.8</td>\n",
       "      <td>190.03920</td>\n",
       "      <td>8.0</td>\n",
       "      <td>24.97707</td>\n",
       "      <td>121.54312</td>\n",
       "    </tr>\n",
       "    <tr>\n",
       "      <th>4</th>\n",
       "      <td>405.0</td>\n",
       "      <td>2013.333</td>\n",
       "      <td>16.4</td>\n",
       "      <td>289.32480</td>\n",
       "      <td>5.0</td>\n",
       "      <td>24.98203</td>\n",
       "      <td>121.54348</td>\n",
       "    </tr>\n",
       "    <tr>\n",
       "      <th>...</th>\n",
       "      <td>...</td>\n",
       "      <td>...</td>\n",
       "      <td>...</td>\n",
       "      <td>...</td>\n",
       "      <td>...</td>\n",
       "      <td>...</td>\n",
       "      <td>...</td>\n",
       "    </tr>\n",
       "    <tr>\n",
       "      <th>326</th>\n",
       "      <td>11.0</td>\n",
       "      <td>2013.083</td>\n",
       "      <td>34.8</td>\n",
       "      <td>405.21340</td>\n",
       "      <td>1.0</td>\n",
       "      <td>24.97349</td>\n",
       "      <td>121.53372</td>\n",
       "    </tr>\n",
       "    <tr>\n",
       "      <th>327</th>\n",
       "      <td>382.0</td>\n",
       "      <td>2013.417</td>\n",
       "      <td>8.0</td>\n",
       "      <td>132.54690</td>\n",
       "      <td>9.0</td>\n",
       "      <td>24.98298</td>\n",
       "      <td>121.53981</td>\n",
       "    </tr>\n",
       "    <tr>\n",
       "      <th>328</th>\n",
       "      <td>160.0</td>\n",
       "      <td>2012.667</td>\n",
       "      <td>15.5</td>\n",
       "      <td>815.93140</td>\n",
       "      <td>4.0</td>\n",
       "      <td>24.97886</td>\n",
       "      <td>121.53464</td>\n",
       "    </tr>\n",
       "    <tr>\n",
       "      <th>329</th>\n",
       "      <td>142.0</td>\n",
       "      <td>2013.333</td>\n",
       "      <td>5.1</td>\n",
       "      <td>1559.82700</td>\n",
       "      <td>3.0</td>\n",
       "      <td>24.97213</td>\n",
       "      <td>121.51627</td>\n",
       "    </tr>\n",
       "    <tr>\n",
       "      <th>330</th>\n",
       "      <td>293.0</td>\n",
       "      <td>2013.083</td>\n",
       "      <td>17.5</td>\n",
       "      <td>395.67470</td>\n",
       "      <td>5.0</td>\n",
       "      <td>24.95674</td>\n",
       "      <td>121.53400</td>\n",
       "    </tr>\n",
       "  </tbody>\n",
       "</table>\n",
       "<p>331 rows × 7 columns</p>\n",
       "</div>"
      ],
      "text/plain": [
       "        No        X1    X2          X3    X4        X5         X6\n",
       "0    370.0  2012.667  20.2  2185.12800   3.0  24.96322  121.51237\n",
       "1    361.0  2012.667  32.9    87.30222  10.0  24.98300  121.54022\n",
       "2    181.0  2012.667  26.9  4449.27000   0.0  24.94898  121.49621\n",
       "3    189.0  2012.917  34.8   190.03920   8.0  24.97707  121.54312\n",
       "4    405.0  2013.333  16.4   289.32480   5.0  24.98203  121.54348\n",
       "..     ...       ...   ...         ...   ...       ...        ...\n",
       "326   11.0  2013.083  34.8   405.21340   1.0  24.97349  121.53372\n",
       "327  382.0  2013.417   8.0   132.54690   9.0  24.98298  121.53981\n",
       "328  160.0  2012.667  15.5   815.93140   4.0  24.97886  121.53464\n",
       "329  142.0  2013.333   5.1  1559.82700   3.0  24.97213  121.51627\n",
       "330  293.0  2013.083  17.5   395.67470   5.0  24.95674  121.53400\n",
       "\n",
       "[331 rows x 7 columns]"
      ]
     },
     "execution_count": 417,
     "metadata": {},
     "output_type": "execute_result"
    }
   ],
   "source": [
    "housing_tr"
   ]
  },
  {
   "cell_type": "code",
   "execution_count": 418,
   "metadata": {},
   "outputs": [],
   "source": [
    "from sklearn.pipeline import Pipeline\n",
    "from sklearn.preprocessing import StandardScaler\n",
    "my_pipeline = Pipeline([\n",
    "    ('imputer', SimpleImputer(strategy=\"median\")),\n",
    "    ('std_scalar', StandardScaler()),\n",
    "])"
   ]
  },
  {
   "cell_type": "code",
   "execution_count": 419,
   "metadata": {},
   "outputs": [
    {
     "data": {
      "text/plain": [
       "array([[ 1.33634919, -1.69732575,  0.18998546, ..., -0.37510886,\n",
       "        -0.48993566, -1.38876478],\n",
       "       [ 1.26147503, -1.69732575,  1.29629087, ...,  2.00606161,\n",
       "         1.11723968,  0.43815207],\n",
       "       [-0.23600818, -1.69732575,  0.7736269 , ..., -1.39561049,\n",
       "        -1.64697191, -2.44883575],\n",
       "       ...,\n",
       "       [-0.41071455, -1.69732575, -0.21943465, ..., -0.03494165,\n",
       "         0.78085414,  0.07211271],\n",
       "       [-0.56046288,  0.67866516, -1.12538554, ..., -0.37510886,\n",
       "         0.23402451, -1.13293083],\n",
       "       [ 0.69575915, -0.21322332, -0.04521333, ...,  0.30522556,\n",
       "        -1.01645216,  0.03012971]])"
      ]
     },
     "execution_count": 419,
     "metadata": {},
     "output_type": "execute_result"
    }
   ],
   "source": [
    "housing_num_tr = my_pipeline.fit_transform(housing)\n",
    "housing_num_tr"
   ]
  },
  {
   "cell_type": "code",
   "execution_count": 420,
   "metadata": {},
   "outputs": [
    {
     "data": {
      "text/html": [
       "<style>#sk-container-id-17 {color: black;}#sk-container-id-17 pre{padding: 0;}#sk-container-id-17 div.sk-toggleable {background-color: white;}#sk-container-id-17 label.sk-toggleable__label {cursor: pointer;display: block;width: 100%;margin-bottom: 0;padding: 0.3em;box-sizing: border-box;text-align: center;}#sk-container-id-17 label.sk-toggleable__label-arrow:before {content: \"▸\";float: left;margin-right: 0.25em;color: #696969;}#sk-container-id-17 label.sk-toggleable__label-arrow:hover:before {color: black;}#sk-container-id-17 div.sk-estimator:hover label.sk-toggleable__label-arrow:before {color: black;}#sk-container-id-17 div.sk-toggleable__content {max-height: 0;max-width: 0;overflow: hidden;text-align: left;background-color: #f0f8ff;}#sk-container-id-17 div.sk-toggleable__content pre {margin: 0.2em;color: black;border-radius: 0.25em;background-color: #f0f8ff;}#sk-container-id-17 input.sk-toggleable__control:checked~div.sk-toggleable__content {max-height: 200px;max-width: 100%;overflow: auto;}#sk-container-id-17 input.sk-toggleable__control:checked~label.sk-toggleable__label-arrow:before {content: \"▾\";}#sk-container-id-17 div.sk-estimator input.sk-toggleable__control:checked~label.sk-toggleable__label {background-color: #d4ebff;}#sk-container-id-17 div.sk-label input.sk-toggleable__control:checked~label.sk-toggleable__label {background-color: #d4ebff;}#sk-container-id-17 input.sk-hidden--visually {border: 0;clip: rect(1px 1px 1px 1px);clip: rect(1px, 1px, 1px, 1px);height: 1px;margin: -1px;overflow: hidden;padding: 0;position: absolute;width: 1px;}#sk-container-id-17 div.sk-estimator {font-family: monospace;background-color: #f0f8ff;border: 1px dotted black;border-radius: 0.25em;box-sizing: border-box;margin-bottom: 0.5em;}#sk-container-id-17 div.sk-estimator:hover {background-color: #d4ebff;}#sk-container-id-17 div.sk-parallel-item::after {content: \"\";width: 100%;border-bottom: 1px solid gray;flex-grow: 1;}#sk-container-id-17 div.sk-label:hover label.sk-toggleable__label {background-color: #d4ebff;}#sk-container-id-17 div.sk-serial::before {content: \"\";position: absolute;border-left: 1px solid gray;box-sizing: border-box;top: 0;bottom: 0;left: 50%;z-index: 0;}#sk-container-id-17 div.sk-serial {display: flex;flex-direction: column;align-items: center;background-color: white;padding-right: 0.2em;padding-left: 0.2em;position: relative;}#sk-container-id-17 div.sk-item {position: relative;z-index: 1;}#sk-container-id-17 div.sk-parallel {display: flex;align-items: stretch;justify-content: center;background-color: white;position: relative;}#sk-container-id-17 div.sk-item::before, #sk-container-id-17 div.sk-parallel-item::before {content: \"\";position: absolute;border-left: 1px solid gray;box-sizing: border-box;top: 0;bottom: 0;left: 50%;z-index: -1;}#sk-container-id-17 div.sk-parallel-item {display: flex;flex-direction: column;z-index: 1;position: relative;background-color: white;}#sk-container-id-17 div.sk-parallel-item:first-child::after {align-self: flex-end;width: 50%;}#sk-container-id-17 div.sk-parallel-item:last-child::after {align-self: flex-start;width: 50%;}#sk-container-id-17 div.sk-parallel-item:only-child::after {width: 0;}#sk-container-id-17 div.sk-dashed-wrapped {border: 1px dashed gray;margin: 0 0.4em 0.5em 0.4em;box-sizing: border-box;padding-bottom: 0.4em;background-color: white;}#sk-container-id-17 div.sk-label label {font-family: monospace;font-weight: bold;display: inline-block;line-height: 1.2em;}#sk-container-id-17 div.sk-label-container {text-align: center;}#sk-container-id-17 div.sk-container {/* jupyter's `normalize.less` sets `[hidden] { display: none; }` but bootstrap.min.css set `[hidden] { display: none !important; }` so we also need the `!important` here to be able to override the default hidden behavior on the sphinx rendered scikit-learn.org. See: https://github.com/scikit-learn/scikit-learn/issues/21755 */display: inline-block !important;position: relative;}#sk-container-id-17 div.sk-text-repr-fallback {display: none;}</style><div id=\"sk-container-id-17\" class=\"sk-top-container\"><div class=\"sk-text-repr-fallback\"><pre>LinearRegression()</pre><b>In a Jupyter environment, please rerun this cell to show the HTML representation or trust the notebook. <br />On GitHub, the HTML representation is unable to render, please try loading this page with nbviewer.org.</b></div><div class=\"sk-container\" hidden><div class=\"sk-item\"><div class=\"sk-estimator sk-toggleable\"><input class=\"sk-toggleable__control sk-hidden--visually\" id=\"sk-estimator-id-17\" type=\"checkbox\" checked><label for=\"sk-estimator-id-17\" class=\"sk-toggleable__label sk-toggleable__label-arrow\">LinearRegression</label><div class=\"sk-toggleable__content\"><pre>LinearRegression()</pre></div></div></div></div></div>"
      ],
      "text/plain": [
       "LinearRegression()"
      ]
     },
     "execution_count": 420,
     "metadata": {},
     "output_type": "execute_result"
    }
   ],
   "source": [
    "from sklearn.linear_model import LinearRegression\n",
    "\n",
    "model1 = LinearRegression()\n",
    "\n",
    "model1.fit(housing_num_tr,housing_labels)\n"
   ]
  },
  {
   "cell_type": "code",
   "execution_count": 421,
   "metadata": {},
   "outputs": [
    {
     "data": {
      "text/plain": [
       "array([27.36527321, 47.4785998 , 10.45229152, 43.98156925, 45.16616581])"
      ]
     },
     "execution_count": 421,
     "metadata": {},
     "output_type": "execute_result"
    }
   ],
   "source": [
    "some_data = housing.iloc[:5]\n",
    "some_labels = housing_labels[:5]\n",
    "prepared_data = my_pipeline.transform(some_data)\n",
    "model1.predict(prepared_data)\n"
   ]
  },
  {
   "cell_type": "code",
   "execution_count": 422,
   "metadata": {},
   "outputs": [
    {
     "data": {
      "text/plain": [
       "[22.8, 47.1, 15.5, 44.3, 41.2]"
      ]
     },
     "execution_count": 422,
     "metadata": {},
     "output_type": "execute_result"
    }
   ],
   "source": [
    "list(some_labels)"
   ]
  },
  {
   "cell_type": "code",
   "execution_count": 423,
   "metadata": {},
   "outputs": [
    {
     "data": {
      "text/plain": [
       "7.792453643906154"
      ]
     },
     "execution_count": 423,
     "metadata": {},
     "output_type": "execute_result"
    }
   ],
   "source": [
    "from sklearn.metrics import mean_squared_error\n",
    "housing_predictions1 = model1.predict(housing_num_tr)\n",
    "\n",
    "mse1 = mean_squared_error(housing_labels, housing_predictions1)\n",
    "\n",
    "rmse1 = np.sqrt(mse1)\n",
    "\n",
    "rmse1"
   ]
  },
  {
   "cell_type": "code",
   "execution_count": 424,
   "metadata": {},
   "outputs": [
    {
     "data": {
      "text/plain": [
       "0.0"
      ]
     },
     "execution_count": 424,
     "metadata": {},
     "output_type": "execute_result"
    }
   ],
   "source": [
    "from sklearn.tree import DecisionTreeRegressor\n",
    "model2 = DecisionTreeRegressor()\n",
    "model2.fit(housing_num_tr,housing_labels)\n",
    "some_data = housing.iloc[:5]\n",
    "some_labels = housing_labels[:5]\n",
    "prepared_data = my_pipeline.transform(some_data)\n",
    "model2.predict(prepared_data)\n",
    "housing_predictions2 = model2.predict(housing_num_tr)\n",
    "mse2 = mean_squared_error(housing_labels, housing_predictions2)\n",
    "rmse2 = np.sqrt(mse2)\n",
    "rmse2\n"
   ]
  },
  {
   "cell_type": "code",
   "execution_count": 425,
   "metadata": {},
   "outputs": [],
   "source": [
    "from sklearn.model_selection import cross_val_score\n",
    "scores2 = cross_val_score(model2, housing_num_tr, housing_labels, scoring=\"neg_mean_squared_error\", cv=10)\n",
    "rmse_scores2 = np.sqrt(-scores2)"
   ]
  },
  {
   "cell_type": "code",
   "execution_count": 426,
   "metadata": {},
   "outputs": [],
   "source": [
    "from sklearn.model_selection import cross_val_score\n",
    "scores1 = cross_val_score(model2, housing_num_tr, housing_labels, scoring=\"neg_mean_squared_error\", cv=10)\n",
    "rmse_scores1 = np.sqrt(-scores1)"
   ]
  },
  {
   "cell_type": "code",
   "execution_count": 427,
   "metadata": {},
   "outputs": [
    {
     "data": {
      "text/plain": [
       "array([ 5.79414004, 10.29963224,  5.8658746 ,  9.53781946, 10.69866885,\n",
       "        9.6885906 , 11.69607549, 10.2554494 ,  6.84627747, 11.78616292])"
      ]
     },
     "execution_count": 427,
     "metadata": {},
     "output_type": "execute_result"
    }
   ],
   "source": [
    "rmse_scores2"
   ]
  },
  {
   "cell_type": "code",
   "execution_count": 428,
   "metadata": {},
   "outputs": [
    {
     "data": {
      "text/plain": [
       "array([ 5.90722389, 10.98737568,  5.81747628, 10.57572979, 11.49830027,\n",
       "        8.27325007,  9.87241336, 10.12600912,  7.61209166, 12.13123941])"
      ]
     },
     "execution_count": 428,
     "metadata": {},
     "output_type": "execute_result"
    }
   ],
   "source": [
    "rmse_scores1"
   ]
  },
  {
   "cell_type": "code",
   "execution_count": 429,
   "metadata": {},
   "outputs": [],
   "source": [
    "def print_scores(scores):\n",
    "    print(\"Scores:\", scores)\n",
    "    print(\"Mean:\", scores.mean())\n",
    "    print(\"STD:\", scores.std())"
   ]
  },
  {
   "cell_type": "code",
   "execution_count": 430,
   "metadata": {},
   "outputs": [
    {
     "name": "stdout",
     "output_type": "stream",
     "text": [
      "Scores: [ 5.90722389 10.98737568  5.81747628 10.57572979 11.49830027  8.27325007\n",
      "  9.87241336 10.12600912  7.61209166 12.13123941]\n",
      "Mean: 9.280110951914173\n",
      "STD: 2.1417587954734603\n"
     ]
    }
   ],
   "source": [
    "print_scores(rmse_scores1)"
   ]
  },
  {
   "cell_type": "code",
   "execution_count": 431,
   "metadata": {},
   "outputs": [
    {
     "name": "stdout",
     "output_type": "stream",
     "text": [
      "Scores: [ 5.79414004 10.29963224  5.8658746   9.53781946 10.69866885  9.6885906\n",
      " 11.69607549 10.2554494   6.84627747 11.78616292]\n",
      "Mean: 9.246869106771829\n",
      "STD: 2.146507953039187\n"
     ]
    }
   ],
   "source": [
    "print_scores(rmse_scores2)"
   ]
  },
  {
   "cell_type": "code",
   "execution_count": 432,
   "metadata": {},
   "outputs": [
    {
     "data": {
      "text/plain": [
       "0.0"
      ]
     },
     "execution_count": 432,
     "metadata": {},
     "output_type": "execute_result"
    }
   ],
   "source": [
    "from sklearn.ensemble import RandomForestRegressor\n",
    "model3 = DecisionTreeRegressor()\n",
    "model3.fit(housing_num_tr,housing_labels)\n",
    "some_data = housing.iloc[:5]\n",
    "some_labels = housing_labels[:5]\n",
    "prepared_data = my_pipeline.transform(some_data)\n",
    "model3.predict(prepared_data)\n",
    "housing_predictions3 = model3.predict(housing_num_tr)\n",
    "mse3 = mean_squared_error(housing_labels, housing_predictions2)\n",
    "rmse3 = np.sqrt(mse3)\n",
    "rmse3"
   ]
  },
  {
   "cell_type": "code",
   "execution_count": 434,
   "metadata": {},
   "outputs": [
    {
     "data": {
      "text/plain": [
       "array([ 6.02877902, 10.90143165,  5.92644305,  9.79234395, 11.28775147,\n",
       "        8.77570683,  7.31623351, 10.21909976,  7.83366859, 11.62215752])"
      ]
     },
     "execution_count": 434,
     "metadata": {},
     "output_type": "execute_result"
    }
   ],
   "source": [
    "scores3 = cross_val_score(model3, housing_num_tr, housing_labels, scoring=\"neg_mean_squared_error\", cv=10)\n",
    "rmse_scores3 = np.sqrt(-scores3)\n",
    "rmse_scores3"
   ]
  },
  {
   "cell_type": "code",
   "execution_count": 435,
   "metadata": {},
   "outputs": [
    {
     "name": "stdout",
     "output_type": "stream",
     "text": [
      "Scores: [ 6.02877902 10.90143165  5.92644305  9.79234395 11.28775147  8.77570683\n",
      "  7.31623351 10.21909976  7.83366859 11.62215752]\n",
      "Mean: 8.970361536372023\n",
      "STD: 2.008750865260471\n"
     ]
    }
   ],
   "source": [
    "print_scores(rmse_scores3)"
   ]
  },
  {
   "cell_type": "code",
   "execution_count": 442,
   "metadata": {},
   "outputs": [
    {
     "name": "stdout",
     "output_type": "stream",
     "text": [
      "[51.0, 53.9, 18.3, 22.3, 53.9, 18.3, 40.5, 24.8, 38.3, 40.9, 21.7, 52.7, 41.0, 25.7, 51.8, 32.4, 17.4, 39.7, 50.5, 43.8, 46.7, 33.1, 32.2, 28.4, 20.9, 47.4, 47.0, 22.3, 33.1, 42.0, 25.3, 35.6, 48.5, 40.9, 23.2, 40.5, 42.8, 23.8, 7.6, 20.5, 40.6, 55.5, 30.9, 34.1, 28.4, 58.8, 40.8, 42.4, 28.4, 49.8, 46.2, 38.6, 16.7, 51.0, 37.9, 47.0, 40.9, 47.0, 71.0, 35.6, 42.5, 20.5, 23.9, 38.2, 25.7, 31.7, 41.0, 63.3, 16.1, 41.1, 48.1, 15.4, 37.3, 42.0, 38.6, 20.9, 59.0, 28.4, 50.5, 20.5, 52.2, 42.8, 52.2] [59.6, 40.3, 25.3, 24.7, 55.0, 45.1, 34.4, 23.6, 38.8, 117.5, 33.4, 56.3, 60.7, 27.7, 53.7, 30.0, 17.4, 46.6, 47.3, 42.3, 49.3, 42.9, 22.8, 30.7, 27.0, 26.9, 37.9, 25.9, 50.2, 44.2, 29.5, 36.6, 41.0, 33.6, 11.2, 26.5, 45.1, 21.8, 40.6, 14.7, 39.0, 45.5, 31.9, 40.2, 26.6, 58.0, 39.5, 37.4, 23.1, 54.4, 51.7, 36.3, 15.6, 51.4, 42.2, 38.4, 51.7, 49.7, 69.7, 37.8, 40.3, 11.6, 33.4, 46.4, 25.6, 31.3, 33.1, 73.6, 19.1, 39.3, 40.1, 29.3, 32.9, 47.1, 41.9, 30.6, 58.1, 28.9, 54.8, 12.8, 55.2, 62.1, 44.7]\n"
     ]
    }
   ],
   "source": [
    "x_test = strat_test_set.drop(\"Y\", axis=1)\n",
    "y_test = strat_test_set[\"Y\"].copy()\n",
    "x_test_prepared = my_pipeline.transform(x_test)\n",
    "final_predictions = model3.predict(x_test_prepared)\n",
    "final_mse = mean_squared_error(y_test, final_predictions)\n",
    "final_rmse = np.sqrt(final_mse)\n",
    "print(list(final_predictions), list(y_test))"
   ]
  },
  {
   "cell_type": "code",
   "execution_count": 437,
   "metadata": {},
   "outputs": [
    {
     "data": {
      "text/plain": [
       "12.036610818664862"
      ]
     },
     "execution_count": 437,
     "metadata": {},
     "output_type": "execute_result"
    }
   ],
   "source": [
    "final_rmse"
   ]
  }
 ],
 "metadata": {
  "kernelspec": {
   "display_name": "Python 3",
   "language": "python",
   "name": "python3"
  },
  "language_info": {
   "codemirror_mode": {
    "name": "ipython",
    "version": 3
   },
   "file_extension": ".py",
   "mimetype": "text/x-python",
   "name": "python",
   "nbconvert_exporter": "python",
   "pygments_lexer": "ipython3",
   "version": "3.11.4"
  },
  "orig_nbformat": 4
 },
 "nbformat": 4,
 "nbformat_minor": 2
}
